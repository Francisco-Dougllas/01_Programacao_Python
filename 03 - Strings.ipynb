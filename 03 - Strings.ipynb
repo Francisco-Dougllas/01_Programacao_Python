{
 "cells": [
  {
   "cell_type": "markdown",
   "id": "09d8f043",
   "metadata": {},
   "source": [
    "# Operações com String\n",
    "\n",
    "str -> transforma número em string<br>\n",
    "in -> verifica se um texto está contido dentro do outro<br>\n",
    "operador + -> concatenar string<br>\n",
    "format e {} -> substitui valores<br>\n",
    "%s -> substitui textos<br>\n",
    "%d -> substitui números decimais<br>\n",
    "\n",
    "Vamos deixar uma cartilha para download"
   ]
  },
  {
   "cell_type": "code",
   "execution_count": 1,
   "id": "c62f0dcc",
   "metadata": {
    "ExecuteTime": {
     "end_time": "2022-08-08T12:54:53.509484Z",
     "start_time": "2022-08-08T12:54:53.474570Z"
    }
   },
   "outputs": [],
   "source": [
    "faturamento = 1000\n",
    "custo = 500\n",
    "lucro = faturamento - custo"
   ]
  },
  {
   "cell_type": "markdown",
   "id": "4dd411a5",
   "metadata": {},
   "source": [
    "Uso do str() e do concatenar com +"
   ]
  },
  {
   "cell_type": "code",
   "execution_count": 2,
   "id": "354f46e5",
   "metadata": {
    "ExecuteTime": {
     "end_time": "2022-08-08T12:55:50.230944Z",
     "start_time": "2022-08-08T12:55:50.216980Z"
    }
   },
   "outputs": [
    {
     "name": "stdout",
     "output_type": "stream",
     "text": [
      "O Faturamento foi de:  1000\n"
     ]
    }
   ],
   "source": [
    "print('O Faturamento foi de: ', faturamento)"
   ]
  },
  {
   "cell_type": "markdown",
   "id": "f8bf1b5b",
   "metadata": {},
   "source": [
    "Uso do Format"
   ]
  },
  {
   "cell_type": "code",
   "execution_count": 3,
   "id": "ccde6e36",
   "metadata": {
    "ExecuteTime": {
     "end_time": "2022-08-08T12:59:46.794147Z",
     "start_time": "2022-08-08T12:59:46.769219Z"
    }
   },
   "outputs": [
    {
     "name": "stdout",
     "output_type": "stream",
     "text": [
      "O faturamento foi de 1000, o custo foi de 500 e o lucro foi 500\n"
     ]
    }
   ],
   "source": [
    "print(f'O faturamento foi de {faturamento}, o custo foi de {custo} e o lucro foi {lucro}')"
   ]
  },
  {
   "cell_type": "markdown",
   "id": "f7466b48",
   "metadata": {},
   "source": [
    "Uso do %s e %d"
   ]
  },
  {
   "cell_type": "code",
   "execution_count": 4,
   "id": "c7058ef3",
   "metadata": {
    "ExecuteTime": {
     "end_time": "2022-08-08T13:03:04.614667Z",
     "start_time": "2022-08-08T13:03:04.600703Z"
    }
   },
   "outputs": [
    {
     "name": "stdout",
     "output_type": "stream",
     "text": [
      "o faturamento foi de 1000\n"
     ]
    }
   ],
   "source": [
    "print('o faturamento foi de %d' %faturamento)"
   ]
  },
  {
   "cell_type": "markdown",
   "id": "c71ff1fb",
   "metadata": {},
   "source": [
    "Uso do in (mais exercícios práticos nas próximas aulas)"
   ]
  },
  {
   "cell_type": "code",
   "execution_count": 5,
   "id": "5830ea33",
   "metadata": {},
   "outputs": [],
   "source": [
    "texto = '''Olá, bom dia\n",
    "        Venho por meio desse e-mail lhe informar o faturamento da loja no dia de hoje.\n",
    "        Faturamento = R$2.500,00\n",
    "        '''"
   ]
  },
  {
   "cell_type": "code",
   "execution_count": 6,
   "id": "433e1228",
   "metadata": {
    "ExecuteTime": {
     "end_time": "2022-08-08T13:09:19.019391Z",
     "start_time": "2022-08-08T13:09:19.002439Z"
    }
   },
   "outputs": [],
   "source": [
    "faturamento = 1000\n",
    "texto = f'Faturamento da Loja foi de {faturamento}'"
   ]
  },
  {
   "cell_type": "markdown",
   "id": "422b09c9",
   "metadata": {},
   "source": [
    "# Exercícios\n",
    "\n",
    "## 1. Cadastro de CPF\n",
    "\n",
    "Crie um programa para cadastro de CPF de clientes que recebe o CPF em um input box apenas com números.\n",
    "\n",
    "Ex: 'Insira seu CPF (digite apenas números)'\n",
    "\n",
    "Caso o usuário digite algo diferente de números ou digite menos de 11 caracteres (tamanho do CPF brasileiro), o programa deve exibir uma mensagem de \"Digite seu CPF corretamente e digite apenas números\""
   ]
  },
  {
   "cell_type": "code",
   "execution_count": 7,
   "id": "ba7bbcc5",
   "metadata": {
    "ExecuteTime": {
     "end_time": "2022-08-08T13:23:53.354383Z",
     "start_time": "2022-08-08T13:23:49.125461Z"
    }
   },
   "outputs": [
    {
     "name": "stdout",
     "output_type": "stream",
     "text": [
      "Insira seu CPF (digite apenas números): 45555\n",
      "Digite seu CPF corretamente e digite apenas números\n"
     ]
    }
   ],
   "source": [
    "cpf = input('Insira seu CPF (digite apenas números): ')\n",
    "tamanho = len(cpf)\n",
    "\n",
    "if tamanho == 11 and cpf.isnumeric():\n",
    "    print(cpf)\n",
    "else:\n",
    "    print('Digite seu CPF corretamente e digite apenas números')"
   ]
  },
  {
   "cell_type": "markdown",
   "id": "db1f064b",
   "metadata": {},
   "source": [
    "## 2. Melhorando nosso Cadastro de CPF\n",
    "\n",
    "Agora, além das validações anteriores, vamos criar um input que permita que o usuário insira pontos, traços e inclusive espaços vazios.\n",
    "\n",
    "Nosso programa deve \"tratar\" o que o usuário inserir para padronizar o CPF dele em apenas números.\n",
    "\n",
    "A verificação de tamanho do CPF com 11 caracteres continua válida, mas ela só deve ser feita depois de retirar todos os pontos, traços e espaços do CPF que o cliente inserir e, uma vez retirados pontos, traços e espaços, devem sobrar apenas números no CPF. Qualquer outro caractere deve ser considerado inválido.\n",
    "\n",
    "No final, nosso programa deve exibir uma mensagem para o usuário, caso ele tenha inserido o CPF inválido ou então apenas deve printar o CPF correto já só com número."
   ]
  },
  {
   "cell_type": "code",
   "execution_count": 8,
   "id": "9127d511",
   "metadata": {
    "ExecuteTime": {
     "end_time": "2022-08-08T13:29:39.706208Z",
     "start_time": "2022-08-08T13:29:33.365525Z"
    }
   },
   "outputs": [
    {
     "name": "stdout",
     "output_type": "stream",
     "text": [
      "Insira Seu CPF: 3334\n",
      "Digite Apenas Numeros e o CPF corretamente: 3334\n"
     ]
    }
   ],
   "source": [
    "cpf = input('Insira Seu CPF: ')\n",
    "\n",
    "\n",
    "# Trata o CPF\n",
    "\n",
    "# Tira Espaços do CPF\n",
    "cpf = cpf.strip()\n",
    "\n",
    "# Tiras os (pontos ou qualquer outro caracter)\n",
    "cpf = cpf.replace('.', '')\n",
    "\n",
    "# Tira os traços\n",
    "cpf = cpf.replace('-', '')\n",
    "\n",
    "if len(cpf) == 11 and cpf.isnumeric():\n",
    "    print(cpf)\n",
    "\n",
    "else:\n",
    "    print(f'Digite Apenas Numeros e o CPF corretamente: {cpf}')"
   ]
  },
  {
   "cell_type": "markdown",
   "id": "3c61f652",
   "metadata": {},
   "source": [
    "## 3. Cadastro de e-mails\n",
    "\n",
    "- A Hashtag sempre se comunica com seus clientes por e-mail. Para isso, a gente tem em cada página um cadastro de nome e e-mail. Nesse cadastro, nosso sistema verifica se o e-mail que a pessoa inseriu é um e-mail válido, verificando se ele tem '@' e se depois do '@' tem algum ponto, afinal:\n",
    "\n",
    "- liragmail.com NÃO é um e-mail válido\n",
    "- lira@gmail NÃO é um e-mail válido\n",
    "- lira@gmail.com é um e-mail válido\n",
    "\n",
    "Crie um programa que permita o cadastro de nome e e-mail de uma pessoa (por meio de inputs) e que verifique:\n",
    "1. Se nome e e-mail foram preenchidos, caso contrário ele deve avisar para preencher todos os dados corretamente\n",
    "2. Se o e-mail contém '@' e se depois do '@' existe algum '.', caso contrário ele deve exibir uma mensagem de e-mail inválido\n",
    "\n",
    "Obs: Pode te ajudar lembrar do método .find da aula de Métodos de String. Você pode testar o que ele dá como resposta caso ele não encontre um item dentro da string"
   ]
  },
  {
   "cell_type": "code",
   "execution_count": 9,
   "id": "aa40f9cb",
   "metadata": {
    "ExecuteTime": {
     "end_time": "2022-08-08T13:39:15.567186Z",
     "start_time": "2022-08-08T13:39:05.501539Z"
    }
   },
   "outputs": [
    {
     "name": "stdout",
     "output_type": "stream",
     "text": [
      "Digite Seu Nome: francisco\n",
      "Digite Seu Email: fnrrr@gmail.com\n",
      "Cadastro Comcluido com sucesso seu email: fnrrr@gmail.com\n"
     ]
    }
   ],
   "source": [
    "nome = input('Digite Seu Nome: ')\n",
    "email = input('Digite Seu Email: ')\n",
    "\n",
    "if nome and email:\n",
    "    p_a = email.find(\"@\")\n",
    "    servidor = email[p_a:]\n",
    "    if p_a != -1 and '.' in servidor:\n",
    "        print(f'Cadastro Comcluido com sucesso seu email: {email}')\n",
    "    else:\n",
    "        print('Email Invalido')\n",
    "    \n",
    "else:\n",
    "    print('Digite Seu Email e nome corretamente')"
   ]
  },
  {
   "cell_type": "markdown",
   "id": "d8e69c53",
   "metadata": {},
   "source": [
    "# Format - Aula de Consulta\n",
    "\n",
    "### Como usar o format para criar formatações personalizadas em prints e textos."
   ]
  },
  {
   "cell_type": "raw",
   "id": "c51facec",
   "metadata": {},
   "source": [
    ":<\t\tAlinha o texto à esquerda (se tiver espaço na tela para isso)\n",
    ":>\t\tAlinha o texto à direita (se tiver espaço na tela para isso)\n",
    ":^\t\tAlinha o texto ao centro (se tiver espaço na tela para isso)\n",
    ":+\t\tColoca o sinal sempre na frente do número (independente se é positivo ou negativo)\n",
    ":,\t\tColoca a vírgula como separador de milhar\n",
    ":_\t\tColoca o _ como separador de milhar\n",
    ":e\t\tFormato Científico\n",
    ":f\t\tNúmero com quantidade fixa de casas decimais\n",
    ":x\t\tFormato HEX minúscula (para cores)\n",
    ":X\t\tFormato HEX maiúscula (para cores)\n",
    ":%\t\tFormato Percentual"
   ]
  },
  {
   "cell_type": "markdown",
   "id": "f3acf22c",
   "metadata": {},
   "source": [
    "- Exemplo de Alinhamento"
   ]
  },
  {
   "cell_type": "code",
   "execution_count": 10,
   "id": "6ef51f68",
   "metadata": {
    "ExecuteTime": {
     "end_time": "2022-08-08T13:47:01.660724Z",
     "start_time": "2022-08-08T13:47:01.627739Z"
    }
   },
   "outputs": [
    {
     "name": "stdout",
     "output_type": "stream",
     "text": [
      "Meu email e francisco@gmail.com \n"
     ]
    }
   ],
   "source": [
    "email = 'francisco@gmail.com'\n",
    "print(f'Meu email e {email:^20}')"
   ]
  },
  {
   "cell_type": "markdown",
   "id": "d4ca1a28",
   "metadata": {},
   "source": [
    "- Exemplo de Edição de Sinal"
   ]
  },
  {
   "cell_type": "code",
   "execution_count": 11,
   "id": "b5f319eb",
   "metadata": {
    "ExecuteTime": {
     "end_time": "2022-08-08T13:48:46.529743Z",
     "start_time": "2022-08-08T13:48:46.516453Z"
    }
   },
   "outputs": [
    {
     "name": "stdout",
     "output_type": "stream",
     "text": [
      "O Faturamento foi de +270 e o lucro foid e -230\n"
     ]
    }
   ],
   "source": [
    "custo = 500\n",
    "faturamento = 270\n",
    "lucro = faturamento - custo\n",
    "\n",
    "print(f'O Faturamento foi de {faturamento:+} e o lucro foid e {lucro:+}')"
   ]
  },
  {
   "cell_type": "markdown",
   "id": "79fe03f9",
   "metadata": {},
   "source": [
    "- Exemplo de Separador de Milhar"
   ]
  },
  {
   "cell_type": "code",
   "execution_count": 12,
   "id": "75763b65",
   "metadata": {
    "ExecuteTime": {
     "end_time": "2022-08-08T13:49:38.938566Z",
     "start_time": "2022-08-08T13:49:38.923403Z"
    }
   },
   "outputs": [
    {
     "name": "stdout",
     "output_type": "stream",
     "text": [
      "O Faturamento foi de +2,709 e o lucro foid e -2,300\n"
     ]
    }
   ],
   "source": [
    "custo = 5009\n",
    "faturamento = 2709\n",
    "lucro = faturamento - custo\n",
    "\n",
    "print(f'O Faturamento foi de {faturamento:+,} e o lucro foid e {lucro:+,}')"
   ]
  },
  {
   "cell_type": "markdown",
   "id": "959e6274",
   "metadata": {},
   "source": [
    "- Formato com casas Decimais fixas"
   ]
  },
  {
   "cell_type": "code",
   "execution_count": 13,
   "id": "d3d386fc",
   "metadata": {
    "ExecuteTime": {
     "end_time": "2022-08-08T13:50:44.629066Z",
     "start_time": "2022-08-08T13:50:44.604985Z"
    }
   },
   "outputs": [
    {
     "name": "stdout",
     "output_type": "stream",
     "text": [
      "O Faturamento foi de245.00 e o Lucro foi de -255.00\n"
     ]
    }
   ],
   "source": [
    "custo = 500\n",
    "faturamento = 245\n",
    "lucro = faturamento - custo\n",
    "\n",
    "print(f'O Faturamento foi de{faturamento:.2f} e o Lucro foi de {lucro:.2f}')"
   ]
  },
  {
   "cell_type": "markdown",
   "id": "b60e1806",
   "metadata": {},
   "source": [
    "- Formato Percentual"
   ]
  },
  {
   "cell_type": "code",
   "execution_count": 14,
   "id": "57cd558f",
   "metadata": {
    "ExecuteTime": {
     "end_time": "2022-08-08T13:52:19.225984Z",
     "start_time": "2022-08-08T13:52:19.212025Z"
    }
   },
   "outputs": [
    {
     "name": "stdout",
     "output_type": "stream",
     "text": [
      "O Faturamento foi de 1300.00 e o Lucro foi de 800.00, a margem de lucro e 61.5%\n"
     ]
    }
   ],
   "source": [
    "custo = 500\n",
    "faturamento = 1300\n",
    "lucro = faturamento - custo\n",
    "margem = lucro / faturamento\n",
    "\n",
    "print(f'O Faturamento foi de {faturamento:.2f} e o Lucro foi de {lucro:.2f}, a margem de lucro e {margem:.1%}')"
   ]
  },
  {
   "cell_type": "markdown",
   "id": "87f3bd3f",
   "metadata": {},
   "source": [
    "- Formato Moeda -> Combinação de Formatos\n",
    "\n",
    "Existem módulos/bibliotecas que vão facilitar isso, caso a gente queira, mas vamos ver como usar módulos mais a frente do curso. Por enquanto, se você precisar, pode fazer substituições em string"
   ]
  },
  {
   "cell_type": "code",
   "execution_count": 15,
   "id": "4a794d43",
   "metadata": {
    "ExecuteTime": {
     "end_time": "2022-08-08T13:56:53.919305Z",
     "start_time": "2022-08-08T13:56:53.898759Z"
    }
   },
   "outputs": [
    {
     "name": "stdout",
     "output_type": "stream",
     "text": [
      "O Faturamento foi de R$ 27000.00 e o Lucro foi de R$ 22000.00\n",
      "R$ 22.000,00\n"
     ]
    }
   ],
   "source": [
    "custo = 5000\n",
    "faturamento = 27000\n",
    "lucro = faturamento - custo\n",
    "print(f'O Faturamento foi de R$ {faturamento:.2f} e o Lucro foi de R$ {lucro:.2f}')\n",
    "\n",
    "# Transformando no Formato Brasileiro\n",
    "lucro_texto = f'R$ {lucro:_.2f}'\n",
    "\n",
    "print(lucro_texto.replace('.', ',').replace('_', '.'))"
   ]
  },
  {
   "cell_type": "markdown",
   "id": "b6d64c39",
   "metadata": {},
   "source": [
    "- Função round() para arredondar números, caso seja necessário"
   ]
  },
  {
   "cell_type": "code",
   "execution_count": 16,
   "id": "f4ff630d",
   "metadata": {
    "ExecuteTime": {
     "end_time": "2022-08-08T13:58:46.357550Z",
     "start_time": "2022-08-08T13:58:46.338601Z"
    }
   },
   "outputs": [
    {
     "name": "stdout",
     "output_type": "stream",
     "text": [
      "O Imposto sera de 15.8\n"
     ]
    }
   ],
   "source": [
    "imposto = 0.15758\n",
    "preco = 100\n",
    "valor_imposto = round(preco * imposto, 1)\n",
    "print(f'O Imposto sera de {valor_imposto}')"
   ]
  },
  {
   "cell_type": "code",
   "execution_count": null,
   "id": "356a5152",
   "metadata": {},
   "outputs": [],
   "source": []
  }
 ],
 "metadata": {
  "kernelspec": {
   "display_name": "Python 3 (ipykernel)",
   "language": "python",
   "name": "python3"
  },
  "language_info": {
   "codemirror_mode": {
    "name": "ipython",
    "version": 3
   },
   "file_extension": ".py",
   "mimetype": "text/x-python",
   "name": "python",
   "nbconvert_exporter": "python",
   "pygments_lexer": "ipython3",
   "version": "3.9.12"
  }
 },
 "nbformat": 4,
 "nbformat_minor": 5
}
