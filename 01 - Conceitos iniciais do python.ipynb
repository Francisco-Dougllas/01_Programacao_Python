{
 "cells": [
  {
   "cell_type": "markdown",
   "id": "fd96c6cc",
   "metadata": {},
   "source": [
    "## Tipos de Dados no Python\n",
    "\n",
    "- Int - Inteiro: Numeros inteiros: 3, 5, 6, 8\n",
    "- Float - Flutuantes: Numeros com casas decimais exemplo 13.45\n",
    "- bool - Booleanos: So aceita True e False\n",
    "- Str - Strings: Textos palavras e tudo que estive entre aspas e considerado string"
   ]
  },
  {
   "cell_type": "code",
   "execution_count": 1,
   "id": "07b55ef8",
   "metadata": {
    "ExecuteTime": {
     "end_time": "2022-08-23T20:33:47.825507Z",
     "start_time": "2022-08-23T20:33:47.784679Z"
    }
   },
   "outputs": [
    {
     "data": {
      "text/plain": [
       "int"
      ]
     },
     "execution_count": 1,
     "metadata": {},
     "output_type": "execute_result"
    }
   ],
   "source": [
    "# Inteiros\n",
    "faturamento = 1000\n",
    "type(faturamento)"
   ]
  },
  {
   "cell_type": "code",
   "execution_count": 2,
   "id": "8993b4b3",
   "metadata": {
    "ExecuteTime": {
     "end_time": "2022-08-23T20:33:55.476188Z",
     "start_time": "2022-08-23T20:33:55.455870Z"
    }
   },
   "outputs": [
    {
     "data": {
      "text/plain": [
       "float"
      ]
     },
     "execution_count": 2,
     "metadata": {},
     "output_type": "execute_result"
    }
   ],
   "source": [
    "# Floats\n",
    "faturamento = 1000.00\n",
    "type(faturamento)"
   ]
  },
  {
   "cell_type": "code",
   "execution_count": 3,
   "id": "47af188d",
   "metadata": {
    "ExecuteTime": {
     "end_time": "2022-08-23T20:34:06.688566Z",
     "start_time": "2022-08-23T20:34:06.665760Z"
    }
   },
   "outputs": [
    {
     "data": {
      "text/plain": [
       "str"
      ]
     },
     "execution_count": 3,
     "metadata": {},
     "output_type": "execute_result"
    }
   ],
   "source": [
    "# Str\n",
    "faturamento = '1000'\n",
    "type(faturamento)"
   ]
  },
  {
   "cell_type": "code",
   "execution_count": 4,
   "id": "973c2789",
   "metadata": {
    "ExecuteTime": {
     "end_time": "2022-08-23T20:34:18.851168Z",
     "start_time": "2022-08-23T20:34:18.834377Z"
    }
   },
   "outputs": [
    {
     "data": {
      "text/plain": [
       "bool"
      ]
     },
     "execution_count": 4,
     "metadata": {},
     "output_type": "execute_result"
    }
   ],
   "source": [
    "# Booleanos\n",
    "ganha_bonus = True\n",
    "type(ganha_bonus)"
   ]
  },
  {
   "cell_type": "code",
   "execution_count": 5,
   "id": "b512526a",
   "metadata": {
    "ExecuteTime": {
     "end_time": "2022-08-23T20:34:36.370496Z",
     "start_time": "2022-08-23T20:34:36.352857Z"
    }
   },
   "outputs": [
    {
     "name": "stdout",
     "output_type": "stream",
     "text": [
      "O Faturamento da Loja foi 1500\n",
      "O Custo da Loja foi 500\n",
      "Assim, o lucro da loja foi de 1000\n"
     ]
    }
   ],
   "source": [
    "# Exemplo\n",
    "\n",
    "faturamento = 1500\n",
    "custo = 500\n",
    "lucro = faturamento - custo\n",
    "\n",
    "print(f'O Faturamento da Loja foi {faturamento}')\n",
    "print(f'O Custo da Loja foi {custo}')\n",
    "print(f'Assim, o lucro da loja foi de {lucro}')"
   ]
  },
  {
   "cell_type": "markdown",
   "id": "e75d630a",
   "metadata": {},
   "source": [
    "Exemplo: Uma Loja fez ao todo as vendas no ultimo dia\n",
    "\n",
    "Valores do último ano:\n",
    "\n",
    "Quantidade de Vendas de Coca = 150<br>\n",
    "Quantidade de Vendas de Pepsi = 130<br>\n",
    "Preço Unitário da Coca = 1,50 <br>\n",
    "Preço Unitário da Pepsi = 1,50<br>\n",
    "Custo da Loja: 2.500,00"
   ]
  },
  {
   "cell_type": "code",
   "execution_count": 6,
   "id": "fe2643db",
   "metadata": {
    "ExecuteTime": {
     "end_time": "2022-08-23T20:37:10.547747Z",
     "start_time": "2022-08-23T20:37:10.536327Z"
    }
   },
   "outputs": [],
   "source": [
    "# Criando as variaveis\n",
    "p_coca = 1.50\n",
    "q_coca = 150\n",
    "p_pepsi = 1.5\n",
    "q_pepsi = 130"
   ]
  },
  {
   "cell_type": "code",
   "execution_count": 7,
   "id": "3dddbd2c",
   "metadata": {
    "ExecuteTime": {
     "end_time": "2022-08-23T20:37:39.943140Z",
     "start_time": "2022-08-23T20:37:39.921000Z"
    }
   },
   "outputs": [
    {
     "name": "stdout",
     "output_type": "stream",
     "text": [
      "O Faturamento da Pepsi foi de: 195.0R$\n"
     ]
    }
   ],
   "source": [
    "# Qual o faturamento da Pepsi\n",
    "print(f'O Faturamento da Pepsi foi de: {q_pepsi * 1.50}R$')"
   ]
  },
  {
   "cell_type": "code",
   "execution_count": 8,
   "id": "3288939c",
   "metadata": {
    "ExecuteTime": {
     "end_time": "2022-08-23T20:37:58.693199Z",
     "start_time": "2022-08-23T20:37:58.677982Z"
    }
   },
   "outputs": [
    {
     "name": "stdout",
     "output_type": "stream",
     "text": [
      "O Faturamento da Coca Cola foi de: 225.0\n"
     ]
    }
   ],
   "source": [
    "# Qual o faturamento da coca\n",
    "print(f'O Faturamento da Coca Cola foi de: {q_coca * p_coca}')"
   ]
  },
  {
   "cell_type": "code",
   "execution_count": 9,
   "id": "b1d59006",
   "metadata": {
    "ExecuteTime": {
     "end_time": "2022-08-23T20:38:25.752544Z",
     "start_time": "2022-08-23T20:38:25.736089Z"
    }
   },
   "outputs": [
    {
     "data": {
      "text/plain": [
       "-2080.0"
      ]
     },
     "execution_count": 9,
     "metadata": {},
     "output_type": "execute_result"
    }
   ],
   "source": [
    "# Qual o lucro total da loja\n",
    "faturamento = (q_coca * p_coca) + (q_pepsi * p_pepsi)\n",
    "custo = 2500\n",
    "lucro = faturamento - custo\n",
    "lucro"
   ]
  },
  {
   "cell_type": "code",
   "execution_count": 10,
   "id": "1b9fc0df",
   "metadata": {
    "ExecuteTime": {
     "end_time": "2022-08-23T20:38:47.460789Z",
     "start_time": "2022-08-23T20:38:47.447014Z"
    }
   },
   "outputs": [
    {
     "data": {
      "text/plain": [
       "-4.9523809523809526"
      ]
     },
     "execution_count": 10,
     "metadata": {},
     "output_type": "execute_result"
    }
   ],
   "source": [
    "#Qual foi a Margem da Loja? (Lembre-se, margem = Lucro / Faturamento). Não precisa formatar em percentual\n",
    "-2080 / faturamento"
   ]
  },
  {
   "cell_type": "markdown",
   "id": "5df700e8",
   "metadata": {},
   "source": [
    "Crie um programa de consulta de bebida que, dado um código qualquer, identifique se a bebida é alcóolica. O programa deve responder True para bebidas alcóolicas e False para bebidas não alcóolicas. Para inserir um código, use um input."
   ]
  },
  {
   "cell_type": "code",
   "execution_count": 11,
   "id": "e9f9552a",
   "metadata": {
    "ExecuteTime": {
     "end_time": "2022-08-23T20:39:28.992378Z",
     "start_time": "2022-08-23T20:39:24.646092Z"
    }
   },
   "outputs": [
    {
     "name": "stdout",
     "output_type": "stream",
     "text": [
      "Digite o Codigo da Bebida: derf\n",
      "False\n"
     ]
    }
   ],
   "source": [
    "bebida = input('Digite o Codigo da Bebida: ')\n",
    "print('BAC' in bebida)"
   ]
  },
  {
   "cell_type": "code",
   "execution_count": 12,
   "id": "28e4f211",
   "metadata": {
    "ExecuteTime": {
     "end_time": "2022-08-23T20:39:39.786878Z",
     "start_time": "2022-08-23T20:39:37.471856Z"
    }
   },
   "outputs": [
    {
     "name": "stdout",
     "output_type": "stream",
     "text": [
      "Digite o Codigo da Bebida: dfgr\n",
      "Bibida sem Alcool\n"
     ]
    }
   ],
   "source": [
    "alcolica = input('Digite o Codigo da Bebida: ')\n",
    "if \"BAC\" in alcolica:\n",
    "    print('Bebida Alcolica')\n",
    "else:\n",
    "    print('Bibida sem Alcool')"
   ]
  },
  {
   "cell_type": "code",
   "execution_count": null,
   "id": "13d11747",
   "metadata": {},
   "outputs": [],
   "source": []
  },
  {
   "cell_type": "markdown",
   "id": "0dc12d08",
   "metadata": {},
   "source": [
    "**Crie um programa que escreva ola mundo na tela mas so aceite ola mundo**]\n",
    "\n",
    "O programa deve entrega a mensagem formatada da seguinte forma Olá Mundo"
   ]
  },
  {
   "cell_type": "code",
   "execution_count": 13,
   "id": "fe5f0d27",
   "metadata": {
    "ExecuteTime": {
     "end_time": "2022-08-23T20:43:10.630727Z",
     "start_time": "2022-08-23T20:43:05.308756Z"
    }
   },
   "outputs": [
    {
     "name": "stdout",
     "output_type": "stream",
     "text": [
      "Digite ola mundo correto: ola mundo\n",
      "Voce Digitou Ola Mundo corretamente\n"
     ]
    }
   ],
   "source": [
    "try:\n",
    "    escrever = str(input('Digite ola mundo correto: ')).title()\n",
    "    if escrever == 'Ola Mundo':\n",
    "        print(f'Voce Digitou {escrever} corretamente')\n",
    "    else:\n",
    "        print('Tente novamente')\n",
    "except:\n",
    "    print('Ops Voce digitou algo errado!')"
   ]
  },
  {
   "cell_type": "markdown",
   "id": "58d9b4d4",
   "metadata": {},
   "source": [
    "**Faça um programa que leia o nome de uma pessoa e mostre uma mensagem de boas-vindas**"
   ]
  },
  {
   "cell_type": "code",
   "execution_count": 15,
   "id": "7d359f79",
   "metadata": {
    "ExecuteTime": {
     "end_time": "2022-08-23T20:44:42.196040Z",
     "start_time": "2022-08-23T20:44:36.842297Z"
    }
   },
   "outputs": [
    {
     "name": "stdout",
     "output_type": "stream",
     "text": [
      "Digite o Seu nome: francisco douglas\n",
      "Ola Seja bem vindo senhor: Francisco Douglas\n"
     ]
    }
   ],
   "source": [
    "sms = 'Ola Seja bem vindo senhor: '\n",
    "nome = str(input('Digite o Seu nome: ')).title()\n",
    "\n",
    "print(f'{sms}{nome}')"
   ]
  },
  {
   "cell_type": "markdown",
   "id": "7b8d88d6",
   "metadata": {},
   "source": [
    "**Crie um programa que leia dois números e mostre a soma entre eles.**"
   ]
  },
  {
   "cell_type": "code",
   "execution_count": 16,
   "id": "252a6f35",
   "metadata": {
    "ExecuteTime": {
     "end_time": "2022-08-23T20:46:37.674778Z",
     "start_time": "2022-08-23T20:46:35.368509Z"
    }
   },
   "outputs": [
    {
     "name": "stdout",
     "output_type": "stream",
     "text": [
      "Digite um Numero: 5\n",
      "Digite outro numero: 6\n",
      "A soma de 5 + 6 = 11\n"
     ]
    }
   ],
   "source": [
    "try:\n",
    "    num1 = int(input('Digite um Numero: '))\n",
    "    num2 = int(input('Digite outro numero: '))\n",
    "    soma = num1 + num2\n",
    "    print(f'A soma de {num1} + {num2} = {soma}')\n",
    "    \n",
    "except:\n",
    "    print('Ops voce digitou algo errado')"
   ]
  },
  {
   "cell_type": "markdown",
   "id": "5a145cd9",
   "metadata": {},
   "source": [
    "Faça um programa que leia algo pelo teclado e mostre na tela o seu tipo primitivo e todas as informações possíveis sobre ele."
   ]
  },
  {
   "cell_type": "code",
   "execution_count": 1,
   "id": "861870ce",
   "metadata": {
    "ExecuteTime": {
     "end_time": "2022-08-29T19:31:01.310015Z",
     "start_time": "2022-08-29T19:30:57.746486Z"
    }
   },
   "outputs": [
    {
     "name": "stdout",
     "output_type": "stream",
     "text": [
      "Digite Algo: er\n",
      "O Tipo de dados e <class 'str'>\n"
     ]
    }
   ],
   "source": [
    "a = input('Digite Algo: ')\n",
    "print(f'O Tipo de dados e {type(a)}')"
   ]
  },
  {
   "cell_type": "markdown",
   "id": "6d94da82",
   "metadata": {},
   "source": [
    "Faça um programa que leia um número Inteiro e mostre na tela o seu sucessor e seu antecessor."
   ]
  },
  {
   "cell_type": "code",
   "execution_count": 2,
   "id": "20bc77bc",
   "metadata": {
    "ExecuteTime": {
     "end_time": "2022-08-29T19:32:11.465085Z",
     "start_time": "2022-08-29T19:32:10.521057Z"
    }
   },
   "outputs": [
    {
     "name": "stdout",
     "output_type": "stream",
     "text": [
      "Digite um Numero: 45\n",
      "O Sucessor de 45 e 46, seu antecessor sera 44\n"
     ]
    }
   ],
   "source": [
    "numero = int(input('Digite um Numero: '))\n",
    "sucessor = numero + 1\n",
    "antecessor = numero - 1\n",
    "\n",
    "print(f'O Sucessor de {numero} e {sucessor}, seu antecessor sera {antecessor}')"
   ]
  },
  {
   "cell_type": "markdown",
   "id": "a6bbbe93",
   "metadata": {},
   "source": [
    "Crie um algoritmo que leia um número e mostre o seu dobro, triplo e raiz quadrada."
   ]
  },
  {
   "cell_type": "code",
   "execution_count": 3,
   "id": "6fb56419",
   "metadata": {
    "ExecuteTime": {
     "end_time": "2022-08-29T19:33:41.911429Z",
     "start_time": "2022-08-29T19:33:41.019565Z"
    }
   },
   "outputs": [
    {
     "name": "stdout",
     "output_type": "stream",
     "text": [
      "Digite um Numero: 45\n",
      "O Dobro de 45 e 90, seu triplo e 135 e sua raiz sera 6.708203932499369\n"
     ]
    }
   ],
   "source": [
    "from math import sqrt\n",
    "\n",
    "numero = int(input('Digite um Numero: '))\n",
    "dobro = numero * 2\n",
    "triplo = numero * 3\n",
    "raiz  = (numero ** (1/2))\n",
    "\n",
    "print(f'O Dobro de {numero} e {dobro}, seu triplo e {triplo} e sua raiz sera {raiz}')"
   ]
  },
  {
   "cell_type": "markdown",
   "id": "f51486c9",
   "metadata": {},
   "source": [
    "Desenvolva um programa que leia as duas notas de um aluno, calcule e mostre a sua média"
   ]
  },
  {
   "cell_type": "code",
   "execution_count": 5,
   "id": "1618b143",
   "metadata": {
    "ExecuteTime": {
     "end_time": "2022-08-29T19:35:11.767051Z",
     "start_time": "2022-08-29T19:35:07.205576Z"
    }
   },
   "outputs": [
    {
     "name": "stdout",
     "output_type": "stream",
     "text": [
      "Primeira Nota: 6.7\n",
      "Segunda Nota: 5.8\n",
      "A Media final do aluno sera de 6.25 Pontos\n"
     ]
    }
   ],
   "source": [
    "nota1 = float(input('Primeira Nota: '))\n",
    "nota2 = float(input('Segunda Nota: '))\n",
    "\n",
    "soma = nota1 + nota2\n",
    "media = soma / 2\n",
    "\n",
    "print(f'A Media final do aluno sera de {media:.2f} Pontos')"
   ]
  },
  {
   "cell_type": "markdown",
   "id": "7493f18f",
   "metadata": {},
   "source": [
    "Escreva um programa que leia um valor em metros e o exiba convertido em centímetros e milímetros."
   ]
  },
  {
   "cell_type": "code",
   "execution_count": 6,
   "id": "4b8ae107",
   "metadata": {
    "ExecuteTime": {
     "end_time": "2022-08-29T19:38:02.075168Z",
     "start_time": "2022-08-29T19:37:59.229513Z"
    }
   },
   "outputs": [
    {
     "name": "stdout",
     "output_type": "stream",
     "text": [
      "Digite o comprimento em metros(m): 4567\n",
      "O Comprimento de 4567.0 Metros e equivalente a\n",
      "\n",
      "4.567 Kilometros\n",
      "45.67 Hectometros\n",
      "456.7 Decametros\n",
      "45670.0 Decimetros\n",
      "456700.0 Centimetros\n",
      "4567000.0 Milimetros\n"
     ]
    }
   ],
   "source": [
    "metros = float(input('Digite o comprimento em metros(m): '))\n",
    "km = metros / 1000\n",
    "hec = metros / 100\n",
    "dec = metros / 10\n",
    "decim = metros * 10\n",
    "cent  = metros * 100\n",
    "mm  = metros * 1000\n",
    "\n",
    "print(f'O Comprimento de {metros} Metros e equivalente a')\n",
    "print(f'''\n",
    "{km} Kilometros\n",
    "{hec} Hectometros\n",
    "{dec} Decametros\n",
    "{decim} Decimetros\n",
    "{cent} Centimetros\n",
    "{mm} Milimetros''')"
   ]
  },
  {
   "cell_type": "markdown",
   "id": "79e2ad3b",
   "metadata": {},
   "source": [
    "Faça um programa que leia um número Inteiro qualquer e mostre na tela a sua tabuada."
   ]
  },
  {
   "cell_type": "code",
   "execution_count": 9,
   "id": "d1dd7631",
   "metadata": {
    "ExecuteTime": {
     "end_time": "2022-08-29T19:40:48.164019Z",
     "start_time": "2022-08-29T19:40:47.132655Z"
    }
   },
   "outputs": [
    {
     "name": "stdout",
     "output_type": "stream",
     "text": [
      "Digite um Numero: 4\n",
      "4 x 1 = 4\n",
      "4 x 2 = 8\n",
      "4 x 3 = 12\n",
      "4 x 4 = 16\n",
      "4 x 5 = 20\n",
      "4 x 6 = 24\n",
      "4 x 7 = 28\n",
      "4 x 8 = 32\n",
      "4 x 9 = 36\n",
      "4 x 10 = 40\n"
     ]
    }
   ],
   "source": [
    "numero = int(input('Digite um Numero: '))\n",
    "print(f'{numero} x {1} = {numero * 1}')\n",
    "print(f'{numero} x {2} = {numero * 2}')\n",
    "print(f'{numero} x {3} = {numero * 3}')\n",
    "print(f'{numero} x {4} = {numero * 4}')\n",
    "print(f'{numero} x {5} = {numero * 5}')\n",
    "print(f'{numero} x {6} = {numero * 6}')\n",
    "print(f'{numero} x {7} = {numero * 7}')\n",
    "print(f'{numero} x {8} = {numero * 8}')\n",
    "print(f'{numero} x {9} = {numero * 9}')\n",
    "print(f'{numero} x {10} = {numero * 10}')"
   ]
  },
  {
   "cell_type": "markdown",
   "id": "b640a4da",
   "metadata": {},
   "source": [
    "Crie um programa que leia quanto dinheiro uma pessoa tem na carteira e mostre quantos dólares ela pode comprar."
   ]
  },
  {
   "cell_type": "code",
   "execution_count": 11,
   "id": "03707a50",
   "metadata": {
    "ExecuteTime": {
     "end_time": "2022-08-29T19:42:40.720633Z",
     "start_time": "2022-08-29T19:42:32.356529Z"
    }
   },
   "outputs": [
    {
     "name": "stdout",
     "output_type": "stream",
     "text": [
      "Quantos R$ voce tem? 4568.63\n",
      "Valor do Dolar Hoje: U$ 5.23\n",
      "A Quantia de 4568.63 R$, com o dolar a 5.23 R$, equivale a 873.54 U$\n"
     ]
    }
   ],
   "source": [
    "dinheiro = float(input('Quantos R$ voce tem? '))\n",
    "dolar_hoje = float(input('Valor do Dolar Hoje: U$ '))\n",
    "total = dinheiro / dolar_hoje\n",
    "\n",
    "print(f'A Quantia de {dinheiro} R$, com o dolar a {dolar_hoje} R$, equivale a {total:.2f} U$')"
   ]
  },
  {
   "cell_type": "markdown",
   "id": "14679d67",
   "metadata": {},
   "source": [
    "Faça um programa que leia a largura e a altura de uma parede em metros, calcule a sua área e a quantidade de tinta necessária para pintá-la, sabendo que cada litro de tinta pinta uma área de 2 metros quadrados"
   ]
  },
  {
   "cell_type": "code",
   "execution_count": 12,
   "id": "70f8374f",
   "metadata": {
    "ExecuteTime": {
     "end_time": "2022-08-29T19:44:30.361258Z",
     "start_time": "2022-08-29T19:44:28.528725Z"
    }
   },
   "outputs": [
    {
     "name": "stdout",
     "output_type": "stream",
     "text": [
      "Largura da Parede: (M) 5\n",
      "Altura da Parede: (M) 7\n",
      "Uma parede de 35.0M², levara 17.5 Litros de tinta para ser pintada\n"
     ]
    }
   ],
   "source": [
    "largura = float(input('Largura da Parede: (M) '))\n",
    "altura  = float(input('Altura da Parede: (M) '))\n",
    "metros = largura * altura\n",
    "litros = metros / 2\n",
    "\n",
    "print(f'Uma parede de {metros}M², levara {litros} Litros de tinta para ser pintada')"
   ]
  },
  {
   "cell_type": "markdown",
   "id": "d3e36dfc",
   "metadata": {},
   "source": [
    "Faça um algoritmo que leia o preço de um produto e mostre seu novo preço, com 5% de desconto."
   ]
  },
  {
   "cell_type": "code",
   "execution_count": 14,
   "id": "887d26e4",
   "metadata": {
    "ExecuteTime": {
     "end_time": "2022-08-29T19:47:40.670271Z",
     "start_time": "2022-08-29T19:47:30.646915Z"
    }
   },
   "outputs": [
    {
     "name": "stdout",
     "output_type": "stream",
     "text": [
      "Qual o produto? Notebook\n",
      "Preco do Notebook R$: 3456.78\n",
      "Qual o Desconto % que tera o Notebook:12\n",
      "O Notebook que custa 3456.78R$ com 12.0% de desconto passara a custa 3041.97R$\n"
     ]
    }
   ],
   "source": [
    "produto = input('Qual o produto? ')\n",
    "preco = float(input(f'Preco do {produto} R$: '))\n",
    "desconto = float(input(f'Qual o Desconto % que tera o {produto}:'))\n",
    "total = (preco / 100) * (100 - desconto)\n",
    "\n",
    "print(f'O {produto} que custa {preco}R$ com {desconto}% de desconto passara a custa {total:.2f}R$')"
   ]
  },
  {
   "cell_type": "markdown",
   "id": "79bfcfd2",
   "metadata": {},
   "source": [
    "Faça um algoritmo que leia o salário de um funcionário e mostre seu novo salário, com 15% de aumento."
   ]
  },
  {
   "cell_type": "code",
   "execution_count": 15,
   "id": "71e68820",
   "metadata": {
    "ExecuteTime": {
     "end_time": "2022-08-29T19:50:41.872239Z",
     "start_time": "2022-08-29T19:50:30.973212Z"
    }
   },
   "outputs": [
    {
     "name": "stdout",
     "output_type": "stream",
     "text": [
      "Nome do Funcionario: Marcos\n",
      "Salario do Marcos: R$ 4567.43\n",
      "Quanto % o Marcos tera de aumento: 15\n",
      "O Funcionario Marcos que ganhava 4567.43R$ por mes tera um aumento de 15.0%\n",
      "Nesse caso o funcionario Marcos passara a ganha 5252.5445R$ por mes\n"
     ]
    }
   ],
   "source": [
    "nome = str(input('Nome do Funcionario: '))\n",
    "salario = float(input(f'Salario do {nome}: R$ '))\n",
    "aumento = float(input(f'Quanto % o {nome} tera de aumento: '))\n",
    "novo_salario = (salario / 100) * (100 + aumento)\n",
    "\n",
    "print(f'O Funcionario {nome} que ganhava {salario}R$ por mes tera um aumento de {aumento}%')\n",
    "print(f'Nesse caso o funcionario {nome} passara a ganha {novo_salario}R$ por mes')"
   ]
  },
  {
   "cell_type": "markdown",
   "id": "8e2477a0",
   "metadata": {},
   "source": [
    "Escreva um programa que converta uma temperatura digitando em graus Celsius e converta para graus Fahrenheit."
   ]
  },
  {
   "cell_type": "code",
   "execution_count": 17,
   "id": "96494e94",
   "metadata": {
    "ExecuteTime": {
     "end_time": "2022-08-29T19:52:40.622654Z",
     "start_time": "2022-08-29T19:52:39.352317Z"
    }
   },
   "outputs": [
    {
     "name": "stdout",
     "output_type": "stream",
     "text": [
      "Informe a Terperatura em °C graus Celsius: 45\n",
      "A Temperatura de 45.0°C graus Celsius corresponde a 113.0°F Graus Fahrenheit\n"
     ]
    }
   ],
   "source": [
    "celsius = float(input('Informe a Terperatura em °C graus Celsius: '))\n",
    "fahrenheit = 9 * celsius / 5 + 32\n",
    "\n",
    "print(f'A Temperatura de {celsius}°C graus Celsius corresponde a {fahrenheit}°F Graus Fahrenheit')"
   ]
  },
  {
   "cell_type": "markdown",
   "id": "e7004476",
   "metadata": {},
   "source": [
    "Escreva um programa que pergunte a quantidade de Km percorridos por um carro alugado e a quantidade de dias pelos quais ele foi alugado. Calcule o preço a pagar, sabendo que o carro custa R$60 por dia e R$0,15 por Km rodad"
   ]
  },
  {
   "cell_type": "code",
   "execution_count": 18,
   "id": "0fa81737",
   "metadata": {
    "ExecuteTime": {
     "end_time": "2022-08-29T20:06:26.633967Z",
     "start_time": "2022-08-29T20:06:16.938787Z"
    }
   },
   "outputs": [
    {
     "name": "stdout",
     "output_type": "stream",
     "text": [
      "Nome do Motorista: Miguel\n",
      "Quantos KM o Miguel percorreu: 4567.43\n",
      "Por quantos dias o Miguel alugou o carro: 5\n",
      "O Motorista Miguel alugou um carro por 5 dias\n",
      "Nesses periodo ele percorreu 4567.43km, entao seu custo do aluguel sera de 985.1145R$\n"
     ]
    }
   ],
   "source": [
    "motorista = str(input('Nome do Motorista: '))\n",
    "km_percorrido = float(input(f'Quantos KM o {motorista} percorreu: '))\n",
    "dias_alugado = int(input(f'Por quantos dias o {motorista} alugou o carro: '))\n",
    "custo_aluguel = (km_percorrido * 0.15) + (dias_alugado * 60)\n",
    "\n",
    "print(f'O Motorista {motorista} alugou um carro por {dias_alugado} dias')\n",
    "print(f'Nesses periodo ele percorreu {km_percorrido}km, entao seu custo do aluguel sera de {custo_aluguel}R$')"
   ]
  },
  {
   "cell_type": "markdown",
   "id": "aae0ba98",
   "metadata": {},
   "source": [
    "Crie um programa que leia um número Real qualquer pelo teclado e mostre na tela a sua porção Inteira."
   ]
  },
  {
   "cell_type": "code",
   "execution_count": 22,
   "id": "9cbfab60",
   "metadata": {
    "ExecuteTime": {
     "end_time": "2022-08-29T20:09:01.833567Z",
     "start_time": "2022-08-29T20:08:59.288570Z"
    }
   },
   "outputs": [
    {
     "name": "stdout",
     "output_type": "stream",
     "text": [
      "Digite um numero: 456.78\n",
      "O Numero digitado foi 456.78 sua parte inteira e 457\n",
      "O Numero digitado foi 456.78 sua parte inteira e 456\n"
     ]
    }
   ],
   "source": [
    "from math import trunc\n",
    "\n",
    "num = float(input('Digite um numero: '))\n",
    "print(f'O Numero digitado foi {num} sua parte inteira e {num:.0f}')\n",
    "print(f'O Numero digitado foi {num} sua parte inteira e {trunc(num)}')"
   ]
  },
  {
   "cell_type": "markdown",
   "id": "4e979a44",
   "metadata": {},
   "source": [
    "Faça um programa que leia o comprimento do cateto oposto e do cateto adjacente de um triângulo retângulo. Calcule e mostre o comprimento da hipotenusa."
   ]
  },
  {
   "cell_type": "code",
   "execution_count": 23,
   "id": "dc7ca615",
   "metadata": {
    "ExecuteTime": {
     "end_time": "2022-08-29T20:10:18.536231Z",
     "start_time": "2022-08-29T20:10:16.804878Z"
    }
   },
   "outputs": [
    {
     "name": "stdout",
     "output_type": "stream",
     "text": [
      "Comprimento do Cateto Oposto: 45\n",
      "Comprimento do Cateto Adjacente: 67\n",
      "A Hipotenuza sera de 80.7093550959243\n"
     ]
    }
   ],
   "source": [
    "from math import hypot\n",
    "\n",
    "co = float(input('Comprimento do Cateto Oposto: '))\n",
    "ca = float(input('Comprimento do Cateto Adjacente: '))\n",
    "hi = hypot(co, ca)\n",
    "\n",
    "print(f'A Hipotenuza sera de {hi}')"
   ]
  },
  {
   "cell_type": "markdown",
   "id": "5654ed64",
   "metadata": {},
   "source": [
    "Faça um programa que leia um ângulo qualquer e mostre na tela o valor do seno, cosseno e tangente desse ângulo."
   ]
  },
  {
   "cell_type": "code",
   "execution_count": 24,
   "id": "c635c029",
   "metadata": {
    "ExecuteTime": {
     "end_time": "2022-08-29T20:13:47.293797Z",
     "start_time": "2022-08-29T20:13:46.571681Z"
    }
   },
   "outputs": [
    {
     "name": "stdout",
     "output_type": "stream",
     "text": [
      "Digite o Angulo: 45\n",
      "O Angulo de 45.0 tem o SENO de 0.7071067811865476\n",
      "O Angulo de 45.0 tem o COSSENO de 0.7071067811865476\n",
      "O Angulo de 45.0 tem o TANGENTE de 0.9999999999999999\n"
     ]
    }
   ],
   "source": [
    "from math import radians, sin, cos, tan\n",
    "\n",
    "angulo = float(input('Digite o Angulo: '))\n",
    "seno = sin(radians(angulo))\n",
    "cosseno = cos(radians(angulo))\n",
    "tangente = tan(radians(angulo))\n",
    "\n",
    "print(f'O Angulo de {angulo} tem o SENO de {seno}')\n",
    "print(f'O Angulo de {angulo} tem o COSSENO de {cosseno}')\n",
    "print(f'O Angulo de {angulo} tem o TANGENTE de {tangente}')"
   ]
  },
  {
   "cell_type": "markdown",
   "id": "580f4067",
   "metadata": {},
   "source": [
    "Um professor quer sortear um dos seus quatro alunos para apagar o quadro. Faça um programa que ajude ele, lendo o nome dos alunos e escrevendo na tela o nome do escolhido."
   ]
  },
  {
   "cell_type": "code",
   "execution_count": 29,
   "id": "9a9c061b",
   "metadata": {
    "ExecuteTime": {
     "end_time": "2022-08-29T20:17:24.726316Z",
     "start_time": "2022-08-29T20:17:16.505171Z"
    }
   },
   "outputs": [
    {
     "name": "stdout",
     "output_type": "stream",
     "text": [
      "Nome do 1 Aluno: Marcia\n",
      "Nome do 2 Aluno: Artur\n",
      "Nome do 3 Aluno: Miguel\n",
      "Nome do 4 Aluno: Nicolas\n",
      "Entre os Alunos ['Marcia', 'Artur', 'Miguel', 'Nicolas'] o Aluno sorteado foi Artur\n"
     ]
    }
   ],
   "source": [
    "from random import choice\n",
    "\n",
    "lista = []\n",
    "\n",
    "for c in range(1, 5):\n",
    "    aluno = str(input(f'Nome do {c} Aluno: '))\n",
    "    lista.append(aluno)\n",
    "alunos = lista    \n",
    "sorteio = choice(alunos)\n",
    "print(f'Entre os Alunos {lista} o Aluno sorteado foi {sorteio}')"
   ]
  },
  {
   "cell_type": "markdown",
   "id": "c4205334",
   "metadata": {},
   "source": [
    "O mesmo professor do desafio 19 quer sortear a ordem de apresentação de trabalhos dos alunos. Faça um programa que leia o nome dos quatro alunos e mostre a ordem sorteada."
   ]
  },
  {
   "cell_type": "code",
   "execution_count": 32,
   "id": "6f4daeb8",
   "metadata": {
    "ExecuteTime": {
     "end_time": "2022-08-29T20:20:04.614818Z",
     "start_time": "2022-08-29T20:19:54.236915Z"
    }
   },
   "outputs": [
    {
     "name": "stdout",
     "output_type": "stream",
     "text": [
      "Nome do 1 Aluno: Marcia\n",
      "Nome do 2 Aluno: Mila\n",
      "Nome do 3 Aluno: Douglas\n",
      "Nome do 4 Aluno: Franciso\n",
      "Entre os Alunos ['Marcia', 'Mila', 'Douglas', 'Franciso'] a sequencia sera ['Mila', 'Franciso', 'Marcia', 'Douglas']\n"
     ]
    }
   ],
   "source": [
    "from random import shuffle\n",
    "lista = []\n",
    "\n",
    "for c in range(1, 5):\n",
    "    aluno = str(input(f'Nome do {c} Aluno: '))\n",
    "    lista.append(aluno)\n",
    "sequencia = lista.copy()\n",
    "shuffle(sequencia)\n",
    "print(f'Entre os Alunos {lista} a sequencia sera {sequencia}')"
   ]
  },
  {
   "cell_type": "markdown",
   "id": "b27fd97e",
   "metadata": {},
   "source": [
    "Faça um programa em Python que abra e reproduza o áudio de um arquivo MP3."
   ]
  },
  {
   "cell_type": "code",
   "execution_count": 38,
   "id": "2dd9f219",
   "metadata": {
    "ExecuteTime": {
     "end_time": "2022-08-29T20:32:00.801038Z",
     "start_time": "2022-08-29T20:32:00.793066Z"
    }
   },
   "outputs": [],
   "source": [
    "import pygame\n",
    "pygame.init()\n",
    "pygame.mixer.music.load(\"C:/Users/franc/Videos/cabare.mp3\")\n",
    "pygame.mixer.music.play()"
   ]
  },
  {
   "cell_type": "markdown",
   "id": "d24f07cf",
   "metadata": {},
   "source": [
    "Crie um programa que leia o nome completo de uma pessoa e mostre:\n",
    "\n",
    "        – O nome com todas as letras maiúsculas e minúsculas.\n",
    "        – Quantas letras ao todo (sem considerar espaços)."
   ]
  },
  {
   "cell_type": "code",
   "execution_count": 37,
   "id": "c8833f6e",
   "metadata": {
    "ExecuteTime": {
     "end_time": "2022-08-29T20:31:54.032063Z",
     "start_time": "2022-08-29T20:31:43.225473Z"
    }
   },
   "outputs": [
    {
     "name": "stdout",
     "output_type": "stream",
     "text": [
      "Digite seu nome: Francisco Douglas de Sousa\n",
      "Analisando o seu nome... \n",
      "Seu nome em Maiusculas e FRANCISCO DOUGLAS DE SOUSA\n",
      "Seu nome em Minusculas e francisco douglas de sousa\n",
      "Seu nome tem ao todo 23 letras\n",
      "Seu Primeiro Nome tem 9 letras\n",
      "['Francisco', 'Douglas', 'de', 'Sousa']\n",
      "Seu Primeiro Nome e Francisco e ele tem 9 letras\n"
     ]
    }
   ],
   "source": [
    "from time import sleep\n",
    "\n",
    "nome = str(input('Digite seu nome: ')).strip()\n",
    "print('Analisando o seu nome... ')\n",
    "\n",
    "print(f'Seu nome em Maiusculas e {nome.upper()}')\n",
    "print(f'Seu nome em Minusculas e {nome.lower()}')\n",
    "print(f'Seu nome tem ao todo {len(nome) - nome.count(\" \")} letras')\n",
    "print(f'Seu Primeiro Nome tem {nome.find(\" \")} letras')\n",
    "\n",
    "separa = nome.split()\n",
    "print(separa)\n",
    "print(f'Seu Primeiro Nome e {separa[0]} e ele tem {len(separa[0])} letras')"
   ]
  },
  {
   "cell_type": "markdown",
   "id": "a53fd904",
   "metadata": {},
   "source": [
    "Faça um programa que leia um número de 0 a 9999 e mostre na tela cada um dos dígitos separados."
   ]
  },
  {
   "cell_type": "code",
   "execution_count": 41,
   "id": "7580115c",
   "metadata": {
    "ExecuteTime": {
     "end_time": "2022-08-29T20:35:10.981178Z",
     "start_time": "2022-08-29T20:35:04.712399Z"
    }
   },
   "outputs": [
    {
     "name": "stdout",
     "output_type": "stream",
     "text": [
      "Informe um Numero: 4567\n",
      "Analisando o Numero 4567\n",
      "O Numero 4567 Tem.\n",
      "7 Unidades\n",
      "6 Dezenas\n",
      "5 Centena\n",
      "4 Milha\n"
     ]
    }
   ],
   "source": [
    "from time import sleep\n",
    "\n",
    "num = int(input('Informe um Numero: '))\n",
    "unidade = num // 1 % 10\n",
    "dezena  = num // 10 % 10\n",
    "centena = num // 100 % 10\n",
    "milha   = num // 1000 % 10\n",
    "\n",
    "print(f'Analisando o Numero {num}')\n",
    "sleep(3)\n",
    "print(f'O Numero {num} Tem.')\n",
    "print(f'{unidade} Unidades')\n",
    "print(f'{dezena} Dezenas')\n",
    "print(f'{centena} Centena')\n",
    "print(f'{milha} Milha')"
   ]
  },
  {
   "cell_type": "markdown",
   "id": "a2f7112e",
   "metadata": {},
   "source": [
    "Crie um programa que leia o nome de uma cidade diga se ela começa ou não com o nome “SANTO”."
   ]
  },
  {
   "cell_type": "code",
   "execution_count": 42,
   "id": "cc197eb6",
   "metadata": {
    "ExecuteTime": {
     "end_time": "2022-08-29T20:36:56.430270Z",
     "start_time": "2022-08-29T20:36:49.931670Z"
    }
   },
   "outputs": [
    {
     "name": "stdout",
     "output_type": "stream",
     "text": [
      "Digite a Cidade que voce mora: santo antonio\n",
      "True\n",
      "True\n",
      "False\n",
      "False\n"
     ]
    }
   ],
   "source": [
    "cid = str(input('Digite a Cidade que voce mora: ')).strip()\n",
    "print(cid[:5].upper() == 'SANTO')\n",
    "print(cid[:5].lower() == 'santo')\n",
    "print(cid[:5] == 'Santo')\n",
    "print(cid[:5] == 'SANTO')"
   ]
  },
  {
   "cell_type": "markdown",
   "id": "560debd4",
   "metadata": {},
   "source": [
    "Crie um programa que leia o nome de uma pessoa e diga se ela tem “SILVA” no nome."
   ]
  },
  {
   "cell_type": "code",
   "execution_count": 43,
   "id": "b8bf2a9f",
   "metadata": {
    "ExecuteTime": {
     "end_time": "2022-08-29T20:38:58.899463Z",
     "start_time": "2022-08-29T20:38:53.588338Z"
    }
   },
   "outputs": [
    {
     "name": "stdout",
     "output_type": "stream",
     "text": [
      "Digite o seu nome: Maria da silva gloria\n",
      "No seu nome tem Silva? False\n",
      "No seu nome tem SILVA? False\n",
      "No seu nome tem silva? True\n"
     ]
    }
   ],
   "source": [
    "nome = str(input('Digite o seu nome: '))\n",
    "print(f'No seu nome tem Silva? {\"Silva\" in nome}')\n",
    "print(f'No seu nome tem SILVA? {\"SILVA\" in nome}')\n",
    "print(f'No seu nome tem silva? {\"silva\" in nome}')"
   ]
  },
  {
   "cell_type": "markdown",
   "id": "e37e7777",
   "metadata": {},
   "source": [
    "Faça um programa que leia uma frase pelo teclado e mostre quantas vezes aparece a letra “A”, em que posição ela aparece a primeira vez e em que posição ela aparece a última vez"
   ]
  },
  {
   "cell_type": "code",
   "execution_count": 45,
   "id": "5d909063",
   "metadata": {
    "ExecuteTime": {
     "end_time": "2022-08-29T20:41:25.181392Z",
     "start_time": "2022-08-29T20:41:23.039517Z"
    }
   },
   "outputs": [
    {
     "name": "stdout",
     "output_type": "stream",
     "text": [
      "Digite uma Frase: arara\n",
      "A letra A aparece quantas vezes na frase 3\n",
      "A Primeira Letra A apareceu na posicao 1\n",
      "A ultima letra A apareceu na posicao 5\n"
     ]
    }
   ],
   "source": [
    "frase = str(input('Digite uma Frase: ')).upper().strip()\n",
    "print(f'A letra A aparece quantas vezes na frase {frase.count(\"A\")}')\n",
    "print(f'A Primeira Letra A apareceu na posicao {frase.find(\"A\") + 1}')\n",
    "print(f'A ultima letra A apareceu na posicao {frase.rfind(\"A\") + 1}')"
   ]
  },
  {
   "cell_type": "markdown",
   "id": "d64ad03c",
   "metadata": {},
   "source": [
    "Faça um programa que leia o nome completo de uma pessoa, mostrando em seguida o primeiro e o último nome separadamente."
   ]
  },
  {
   "cell_type": "code",
   "execution_count": 46,
   "id": "de90c8d0",
   "metadata": {
    "ExecuteTime": {
     "end_time": "2022-08-29T20:42:43.999809Z",
     "start_time": "2022-08-29T20:42:36.498960Z"
    }
   },
   "outputs": [
    {
     "name": "stdout",
     "output_type": "stream",
     "text": [
      "Digite o Seu nome completo: Francisco Douglas de Sousa\n",
      "Muito prazer em te conhecer\n",
      "Seu Primeiro Nome e Francisco\n",
      "Seu ultimo nome e Sousa\n"
     ]
    }
   ],
   "source": [
    "nome = str(input('Digite o Seu nome completo: ')).strip()\n",
    "n = nome.split()\n",
    "\n",
    "print(f'Muito prazer em te conhecer')\n",
    "print(f'Seu Primeiro Nome e {n[0]}')\n",
    "print(f'Seu ultimo nome e {n[len(n) - 1]}')"
   ]
  },
  {
   "cell_type": "code",
   "execution_count": null,
   "id": "17e2cd9d",
   "metadata": {},
   "outputs": [],
   "source": []
  },
  {
   "cell_type": "code",
   "execution_count": null,
   "id": "8a9532cf",
   "metadata": {},
   "outputs": [],
   "source": []
  }
 ],
 "metadata": {
  "kernelspec": {
   "display_name": "Python 3 (ipykernel)",
   "language": "python",
   "name": "python3"
  },
  "language_info": {
   "codemirror_mode": {
    "name": "ipython",
    "version": 3
   },
   "file_extension": ".py",
   "mimetype": "text/x-python",
   "name": "python",
   "nbconvert_exporter": "python",
   "pygments_lexer": "ipython3",
   "version": "3.10.4"
  }
 },
 "nbformat": 4,
 "nbformat_minor": 5
}
