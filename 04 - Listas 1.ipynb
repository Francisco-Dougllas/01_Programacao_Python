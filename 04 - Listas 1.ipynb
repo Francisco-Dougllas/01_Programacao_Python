{
 "cells": [
  {
   "cell_type": "markdown",
   "id": "1b4fccbf",
   "metadata": {},
   "source": [
    "# Listas em Python\n",
    "\n",
    "## Estrutura:\n",
    "\n",
    "lista = [valor, valor, valor, valor, ...]\n",
    "\n",
    "- Lista é um dos objetos mais importantes de Python, por isso vamos trabalhar bastante neles\n",
    "- Quando importamos uma base de dados para o Python, normalmente ele é lido como uma \"lista\" ou como alguma \"variação de lista\"\n",
    "- Listas em Python foram feitas para serem homogêneas, apesar de aceitarem valores heterogêneos\n",
    "- Exemplos de Lista:\n",
    "\n",
    "Listas de Produtos de uma Loja:"
   ]
  },
  {
   "cell_type": "code",
   "execution_count": 1,
   "id": "a783895c",
   "metadata": {
    "ExecuteTime": {
     "end_time": "2022-08-09T10:39:32.713639Z",
     "start_time": "2022-08-09T10:39:32.680678Z"
    }
   },
   "outputs": [],
   "source": [
    "produtos = ['tv', 'celular', 'mouse', 'teclado', 'tablet']"
   ]
  },
  {
   "cell_type": "markdown",
   "id": "67f701e1",
   "metadata": {},
   "source": [
    "Lista de Unidades Vendidas de cada Produto da Loja"
   ]
  },
  {
   "cell_type": "code",
   "execution_count": 2,
   "id": "1ae196c8",
   "metadata": {
    "ExecuteTime": {
     "end_time": "2022-08-09T10:39:33.379230Z",
     "start_time": "2022-08-09T10:39:33.360108Z"
    }
   },
   "outputs": [],
   "source": [
    "vendas = [1000, 1500, 350, 270, 900]"
   ]
  },
  {
   "cell_type": "markdown",
   "id": "fb9ba34b",
   "metadata": {},
   "source": [
    "# Listas em Python\n",
    "\n",
    "## Estrutura:\n",
    "\n",
    "lista = [valor, valor, valor, valor, ...]\n",
    "\n",
    "lista[i] -> é o valor de índice i da lista. <br>\n",
    "Obs: Lembre que no python o índice começa em 0, então o primeiro item de uma lista é o item lista[0]\n",
    "\n",
    "Para substituir um valor de uma lista você pode fazer:<br>\n",
    "lista[i] = novo_valor\n",
    "\n",
    "Listas de Produtos de uma Loja:"
   ]
  },
  {
   "cell_type": "code",
   "execution_count": 3,
   "id": "971a1268",
   "metadata": {
    "ExecuteTime": {
     "end_time": "2022-08-09T10:43:08.246530Z",
     "start_time": "2022-08-09T10:43:08.228565Z"
    }
   },
   "outputs": [],
   "source": [
    "produtos = ['tv', 'celular', 'mouse', 'teclado', 'tablet']"
   ]
  },
  {
   "cell_type": "markdown",
   "id": "b8195d82",
   "metadata": {},
   "source": [
    "Lista de Unidades Vendidas de cada Produto da Loja"
   ]
  },
  {
   "cell_type": "code",
   "execution_count": 4,
   "id": "263833f6",
   "metadata": {
    "ExecuteTime": {
     "end_time": "2022-08-09T10:43:09.206232Z",
     "start_time": "2022-08-09T10:43:09.195202Z"
    }
   },
   "outputs": [],
   "source": [
    "vendas = [1000, 1500, 350, 270, 900]"
   ]
  },
  {
   "cell_type": "markdown",
   "id": "3dc469a5",
   "metadata": {},
   "source": [
    "### Nesse caso, as listas funcionam da seguinte forma:"
   ]
  },
  {
   "cell_type": "code",
   "execution_count": 6,
   "id": "f44e9afa",
   "metadata": {
    "ExecuteTime": {
     "end_time": "2022-08-09T10:44:15.076452Z",
     "start_time": "2022-08-09T10:44:15.070811Z"
    }
   },
   "outputs": [],
   "source": [
    "produtos = ['tv', 'celular', 'mouse', 'teclado', 'tablet']\n",
    "#              0 ,      1   ,    2   ,     3    ,     4   \n",
    "vendas = [  1000,    1500  ,   350  ,    270   ,    900  ]"
   ]
  },
  {
   "cell_type": "code",
   "execution_count": 7,
   "id": "dfde3745",
   "metadata": {
    "ExecuteTime": {
     "end_time": "2022-08-09T10:44:15.981641Z",
     "start_time": "2022-08-09T10:44:15.957117Z"
    }
   },
   "outputs": [],
   "source": [
    "texto = 'lira@gmail.com'"
   ]
  },
  {
   "cell_type": "code",
   "execution_count": 9,
   "id": "70fe1426",
   "metadata": {
    "ExecuteTime": {
     "end_time": "2022-08-09T10:44:32.353213Z",
     "start_time": "2022-08-09T10:44:32.344083Z"
    }
   },
   "outputs": [
    {
     "name": "stdout",
     "output_type": "stream",
     "text": [
      "1500 celular\n"
     ]
    }
   ],
   "source": [
    "print(vendas[1],produtos[1])"
   ]
  },
  {
   "cell_type": "code",
   "execution_count": 11,
   "id": "6c90796f",
   "metadata": {
    "ExecuteTime": {
     "end_time": "2022-08-09T10:45:23.475679Z",
     "start_time": "2022-08-09T10:45:23.464484Z"
    }
   },
   "outputs": [
    {
     "name": "stdout",
     "output_type": "stream",
     "text": [
      "A Venda de mouse foram de 350\n"
     ]
    }
   ],
   "source": [
    "print(f'A Venda de {produtos[2]} foram de {vendas[2]}')"
   ]
  },
  {
   "cell_type": "code",
   "execution_count": 12,
   "id": "5ca7a2cb",
   "metadata": {
    "ExecuteTime": {
     "end_time": "2022-08-09T10:47:51.466372Z",
     "start_time": "2022-08-09T10:47:51.454946Z"
    }
   },
   "outputs": [
    {
     "name": "stdout",
     "output_type": "stream",
     "text": [
      "['h', 'o', 'n', ' ', 'e']\n"
     ]
    }
   ],
   "source": [
    "texto = list('Python e Senssacional')\n",
    "print(texto[3:8])"
   ]
  },
  {
   "cell_type": "code",
   "execution_count": null,
   "id": "87465c9f",
   "metadata": {},
   "outputs": [],
   "source": []
  },
  {
   "cell_type": "code",
   "execution_count": null,
   "id": "dfd36d49",
   "metadata": {},
   "outputs": [],
   "source": []
  },
  {
   "cell_type": "markdown",
   "id": "64fe2f47",
   "metadata": {},
   "source": [
    "# Como descobrir o índice de um item de uma lista?\n",
    "\n",
    "i = lista.index('item')"
   ]
  },
  {
   "cell_type": "markdown",
   "id": "19a5fe65",
   "metadata": {},
   "source": [
    "Exemplo:\n",
    "\n",
    "Digamos que você puxou do Banco de Dados da sua empresa uma lista com todos os produtos que a empresa vende e a quantidade em estoque de todos eles."
   ]
  },
  {
   "cell_type": "code",
   "execution_count": 13,
   "id": "6ec98046",
   "metadata": {
    "ExecuteTime": {
     "end_time": "2022-08-09T10:51:16.861200Z",
     "start_time": "2022-08-09T10:51:16.835125Z"
    }
   },
   "outputs": [],
   "source": [
    "produtos = ['tv', 'celular', 'tablet', 'mouse', 'teclado', 'geladeira', 'forno']\n",
    "estoque = [100, 150, 100, 120, 70, 180, 80]"
   ]
  },
  {
   "cell_type": "markdown",
   "id": "e5d0c2f9",
   "metadata": {},
   "source": [
    "Nesse caso a lista é \"pequena\" para fins didáticos, mas essa lista poderia ter dezenas de milhares de produtos diferentes.\n",
    "\n",
    "E agora, como eu faço para descobrir a quantidade em estoque do produto geladeira?"
   ]
  },
  {
   "cell_type": "code",
   "execution_count": 15,
   "id": "4dcc55d7",
   "metadata": {
    "ExecuteTime": {
     "end_time": "2022-08-09T10:57:54.348814Z",
     "start_time": "2022-08-09T10:57:54.327867Z"
    }
   },
   "outputs": [
    {
     "name": "stdout",
     "output_type": "stream",
     "text": [
      "Quantidade em estoque da geladeira e 180\n"
     ]
    }
   ],
   "source": [
    "i = produtos.index('geladeira')\n",
    "qtde_estoque = estoque[i]\n",
    "\n",
    "print(f'Quantidade em estoque da geladeira e {qtde_estoque}')"
   ]
  },
  {
   "cell_type": "markdown",
   "id": "c4d8fb66",
   "metadata": {},
   "source": [
    "Crie um programa para fazer uma consulta de estoque. O usuário do programa deve inserir o nome do produto e, caso ele não exista na lista, ele deve ser avisado. Caso exista, o programa deve dizer a quantidade de unidades em estoque do produto"
   ]
  },
  {
   "cell_type": "code",
   "execution_count": 18,
   "id": "d95d7c2e",
   "metadata": {
    "ExecuteTime": {
     "end_time": "2022-08-09T11:04:33.571413Z",
     "start_time": "2022-08-09T11:04:30.009695Z"
    }
   },
   "outputs": [
    {
     "name": "stdout",
     "output_type": "stream",
     "text": [
      "Insira o nome do Produto: geladeira\n",
      "Temos 180 unidades de geladeira no estoque\n"
     ]
    }
   ],
   "source": [
    "produto = input('Insira o nome do Produto: ')\n",
    "p = produto.lower()\n",
    "\n",
    "if p in produtos:\n",
    "    i = produtos.index(p)\n",
    "    qtd_estoque = estoque[i]\n",
    "    print(f'Temos {qtd_estoque} unidades de {produto} no estoque')\n",
    "else:\n",
    "    print(f\"{produto} não existe no estoque\")"
   ]
  },
  {
   "cell_type": "markdown",
   "id": "efba6f8a",
   "metadata": {},
   "source": [
    "# Adicionar e Remover itens de uma lista\n",
    "\n",
    "Adicionar:<br>\n",
    "lista.append(item)\n",
    "\n",
    "Remover:<br>\n",
    "item_removido = lista.pop(indice)<br>\n",
    "lista.remove(item)\n",
    "\n",
    "Digamos que você está construindo o controle de produtos da Apple.<br>\n",
    "E a Apple lançou o IPhone 11 e irá tirar dos seus estoques o IPhone X"
   ]
  },
  {
   "cell_type": "code",
   "execution_count": 19,
   "id": "d01eae0d",
   "metadata": {
    "ExecuteTime": {
     "end_time": "2022-08-09T11:07:29.437137Z",
     "start_time": "2022-08-09T11:07:29.419050Z"
    }
   },
   "outputs": [],
   "source": [
    "produtos = ['apple tv', 'mac', 'iphone x', 'IPad', 'apple watch', 'mac book', 'airpods']"
   ]
  },
  {
   "cell_type": "markdown",
   "id": "edffc64c",
   "metadata": {},
   "source": [
    "## Existem 2 formas de tratar o erro:\n",
    "\n",
    "1. Criar um if para evitar que ele aconteça\n",
    "\n",
    "2. Esperar que ele possa acontecer e tratar caso o erro aconteça com:"
   ]
  },
  {
   "cell_type": "raw",
   "id": "07ab5e74",
   "metadata": {},
   "source": [
    "try:\n",
    "    tentar fazer\n",
    "except:\n",
    "    caso dê errado"
   ]
  },
  {
   "cell_type": "code",
   "execution_count": null,
   "id": "7e888493",
   "metadata": {},
   "outputs": [],
   "source": []
  },
  {
   "cell_type": "code",
   "execution_count": 20,
   "id": "cd85884f",
   "metadata": {
    "ExecuteTime": {
     "end_time": "2022-08-09T11:07:31.017947Z",
     "start_time": "2022-08-09T11:07:30.987381Z"
    }
   },
   "outputs": [
    {
     "ename": "SyntaxError",
     "evalue": "invalid syntax (327464434.py, line 3)",
     "output_type": "error",
     "traceback": [
      "\u001b[1;36m  Input \u001b[1;32mIn [20]\u001b[1;36m\u001b[0m\n\u001b[1;33m    Adicionar:<br>\u001b[0m\n\u001b[1;37m              ^\u001b[0m\n\u001b[1;31mSyntaxError\u001b[0m\u001b[1;31m:\u001b[0m invalid syntax\n"
     ]
    }
   ],
   "source": [
    "# Adicionar e Remover itens de uma lista\n",
    "\n",
    "Adicionar:<br>\n",
    "lista.append(item)\n",
    "\n",
    "Remover:<br>\n",
    "item_removido = lista.pop(indice)<br>\n",
    "lista.remove(item)\n",
    "\n",
    "Digamos que você está construindo o controle de produtos da Apple.<br>\n",
    "E a Apple lançou o IPhone 11 e irá tirar dos seus estoques o IPhone X\n",
    "\n",
    "produtos = ['apple tv', 'mac', 'iphone x', 'IPad', 'apple watch', 'mac book', 'airpods']\n",
    "\n",
    "## Existem 2 formas de tratar o erro:\n",
    "\n",
    "1. Criar um if para evitar que ele aconteça\n",
    "\n",
    "2. Esperar que ele possa acontecer e tratar caso o erro aconteça com:\n",
    "\n",
    "try:\n",
    "    tentar fazer\n",
    "except:\n",
    "    caso dê errado\n",
    "\n"
   ]
  },
  {
   "cell_type": "code",
   "execution_count": 21,
   "id": "13caa6ea",
   "metadata": {
    "ExecuteTime": {
     "end_time": "2022-08-09T11:15:41.051205Z",
     "start_time": "2022-08-09T11:15:41.028297Z"
    }
   },
   "outputs": [
    {
     "name": "stdout",
     "output_type": "stream",
     "text": [
      "['apple tv', 'mac', 'iphone x', 'IPad', 'apple watch', 'mac book', 'airpods']\n",
      "['apple tv', 'mac', 'iphone x', 'IPad', 'apple watch', 'mac book', 'airpods', 'iphone 11']\n",
      "O Produto não existe na lista iphonex\n"
     ]
    }
   ],
   "source": [
    "produtos = ['apple tv', 'mac', 'iphone x', 'IPad', 'apple watch', 'mac book', 'airpods']\n",
    "print(produtos)\n",
    "\n",
    "# Adiciona o iphone 11\n",
    "produtos.append('iphone 11')\n",
    "\n",
    "print(produtos)\n",
    "\n",
    "# Remover o iphone 11\n",
    "produto_remover = 'iphonex'\n",
    "\n",
    "if produto_remover in produtos:\n",
    "    produtos.remove('iphonex')\n",
    "else:\n",
    "    print(f'O Produto não existe na lista {produto_remover}')"
   ]
  },
  {
   "cell_type": "markdown",
   "id": "d6585971",
   "metadata": {},
   "source": [
    "# Algumas Funções Básicas de Lista\n",
    "\n",
    "## Tamanho da Lista\n",
    "\n",
    "tamanho = len(lista)"
   ]
  },
  {
   "cell_type": "code",
   "execution_count": 1,
   "id": "8948e184",
   "metadata": {
    "ExecuteTime": {
     "end_time": "2022-08-09T11:50:47.672285Z",
     "start_time": "2022-08-09T11:50:47.646353Z"
    }
   },
   "outputs": [],
   "source": [
    "produtos = ['apple tv', 'mac', 'iphone x', 'IPad', 'apple watch', 'mac book', 'airpods']"
   ]
  },
  {
   "cell_type": "markdown",
   "id": "fa204fbb",
   "metadata": {},
   "source": [
    "- Quantos produtos temos a venda?"
   ]
  },
  {
   "cell_type": "code",
   "execution_count": 2,
   "id": "8cbe4486",
   "metadata": {
    "ExecuteTime": {
     "end_time": "2022-08-09T11:50:48.061971Z",
     "start_time": "2022-08-09T11:50:48.040031Z"
    }
   },
   "outputs": [
    {
     "name": "stdout",
     "output_type": "stream",
     "text": [
      "Temos 7 produtos\n"
     ]
    }
   ],
   "source": [
    "tamanho = len(produtos)\n",
    "print(f'Temos {tamanho} produtos')"
   ]
  },
  {
   "cell_type": "markdown",
   "id": "b1248587",
   "metadata": {},
   "source": [
    "## Maior e Menor Valor\n",
    "\n",
    "maior = max(lista)\n",
    "\n",
    "menor = min(lista)"
   ]
  },
  {
   "cell_type": "code",
   "execution_count": 3,
   "id": "1cc8170c",
   "metadata": {
    "ExecuteTime": {
     "end_time": "2022-08-09T11:50:48.622963Z",
     "start_time": "2022-08-09T11:50:48.605011Z"
    }
   },
   "outputs": [],
   "source": [
    "vendas = [1000, 1500, 15000, 270, 900, 100, 1200]"
   ]
  },
  {
   "cell_type": "markdown",
   "id": "eb4651f3",
   "metadata": {},
   "source": [
    "- Qual o item mais vendido?\n",
    "- Qual o item menos vendido?"
   ]
  },
  {
   "cell_type": "code",
   "execution_count": 4,
   "id": "56d5db0e",
   "metadata": {
    "ExecuteTime": {
     "end_time": "2022-08-09T11:50:49.203469Z",
     "start_time": "2022-08-09T11:50:49.174453Z"
    }
   },
   "outputs": [
    {
     "name": "stdout",
     "output_type": "stream",
     "text": [
      "O Produto Mais vendido vendeu 15000 \n",
      "O Produto Menos Vendido vendeu 100\n"
     ]
    }
   ],
   "source": [
    "mais_vendido = max(vendas)\n",
    "menos_vendido = min(vendas)\n",
    "\n",
    "print(f'O Produto Mais vendido vendeu {mais_vendido} ')\n",
    "print(f'O Produto Menos Vendido vendeu {menos_vendido}')"
   ]
  },
  {
   "cell_type": "code",
   "execution_count": 5,
   "id": "cf2ee10f",
   "metadata": {
    "ExecuteTime": {
     "end_time": "2022-08-09T11:50:49.603220Z",
     "start_time": "2022-08-09T11:50:49.574325Z"
    }
   },
   "outputs": [
    {
     "name": "stdout",
     "output_type": "stream",
     "text": [
      "O Produto Mais Vendido foi iphone x\n",
      "O Produto Menos Vendido foi mac book\n"
     ]
    }
   ],
   "source": [
    "i = vendas.index(mais_vendido)\n",
    "e = vendas.index(menos_vendido)\n",
    "\n",
    "print(f'O Produto Mais Vendido foi {produtos[i]}')\n",
    "print(f'O Produto Menos Vendido foi {produtos[e]}')"
   ]
  },
  {
   "cell_type": "code",
   "execution_count": null,
   "id": "45c4c9b8",
   "metadata": {},
   "outputs": [],
   "source": []
  },
  {
   "cell_type": "markdown",
   "id": "fb2fa8b1",
   "metadata": {},
   "source": [
    "# Juntar Listas, Ordenar e Cuidados Especiais\n",
    "\n",
    "### 2 formas:\n",
    "\n",
    "- lista1.extend(lista2)\n",
    "- lista_nova = lista1 + lista2\n",
    "\n",
    "Obs: o Método .append não junta listas, mas adiciona um valor no final da lista"
   ]
  },
  {
   "cell_type": "code",
   "execution_count": 6,
   "id": "c09c4bfb",
   "metadata": {
    "ExecuteTime": {
     "end_time": "2022-08-09T11:50:50.675627Z",
     "start_time": "2022-08-09T11:50:50.661762Z"
    }
   },
   "outputs": [],
   "source": [
    "produtos = ['apple tv', 'mac', 'iphone x', 'iphone 11', 'IPad', 'apple watch', 'mac book', 'airpods']\n",
    "novos_produtos = ['iphone 12', 'ioculos']"
   ]
  },
  {
   "cell_type": "code",
   "execution_count": 7,
   "id": "dd899cc0",
   "metadata": {
    "ExecuteTime": {
     "end_time": "2022-08-09T11:50:51.207258Z",
     "start_time": "2022-08-09T11:50:51.191301Z"
    }
   },
   "outputs": [
    {
     "name": "stdout",
     "output_type": "stream",
     "text": [
      "['iphone 12', 'ioculos', 'apple tv', 'mac', 'iphone x', 'iphone 11', 'IPad', 'apple watch', 'mac book', 'airpods']\n"
     ]
    }
   ],
   "source": [
    "novos_produtos.extend(produtos)\n",
    "print(novos_produtos)"
   ]
  },
  {
   "cell_type": "code",
   "execution_count": 8,
   "id": "20fa826c",
   "metadata": {
    "ExecuteTime": {
     "end_time": "2022-08-09T11:50:51.877912Z",
     "start_time": "2022-08-09T11:50:51.870897Z"
    }
   },
   "outputs": [
    {
     "name": "stdout",
     "output_type": "stream",
     "text": [
      "['apple tv', 'mac', 'iphone x', 'iphone 11', 'IPad', 'apple watch', 'mac book', 'airpods', 'iphone 12', 'ioculos', 'apple tv', 'mac', 'iphone x', 'iphone 11', 'IPad', 'apple watch', 'mac book', 'airpods']\n"
     ]
    }
   ],
   "source": [
    "todos_produtos = produtos + novos_produtos\n",
    "print(todos_produtos)"
   ]
  },
  {
   "cell_type": "markdown",
   "id": "9a4cd698",
   "metadata": {},
   "source": [
    "### Cuidado:\n",
    "\n",
    "- [1] + [2] não é a mesma coisa que 1 + 2, então cuidado sempre com o formato dos valores na hora de fazer operações."
   ]
  },
  {
   "cell_type": "code",
   "execution_count": 10,
   "id": "2c59678c",
   "metadata": {
    "ExecuteTime": {
     "end_time": "2022-08-09T11:54:56.713627Z",
     "start_time": "2022-08-09T11:54:56.702902Z"
    }
   },
   "outputs": [
    {
     "name": "stdout",
     "output_type": "stream",
     "text": [
      "35000\n"
     ]
    }
   ],
   "source": [
    "vendas = [1000, 1500, 15000, 20000, 270, 900, 100, 1200]\n",
    "vendas_iphonex = [15000]\n",
    "vendas_iphone11 = [20000]\n",
    "\n",
    "total_iphone = vendas[2] + vendas[3]\n",
    "print(total_iphone)"
   ]
  },
  {
   "cell_type": "markdown",
   "id": "ed064b72",
   "metadata": {},
   "source": [
    "### Ordenar listas\n",
    "\n",
    "lista.sort()"
   ]
  },
  {
   "cell_type": "code",
   "execution_count": 12,
   "id": "379faa00",
   "metadata": {
    "ExecuteTime": {
     "end_time": "2022-08-09T11:58:48.372097Z",
     "start_time": "2022-08-09T11:58:48.342441Z"
    }
   },
   "outputs": [
    {
     "data": {
      "text/plain": [
       "['IPad',\n",
       " 'airpods',\n",
       " 'apple tv',\n",
       " 'apple watch',\n",
       " 'iphone 11',\n",
       " 'iphone x',\n",
       " 'mac',\n",
       " 'mac book']"
      ]
     },
     "execution_count": 12,
     "metadata": {},
     "output_type": "execute_result"
    }
   ],
   "source": [
    "produtos.sort()\n",
    "produtos"
   ]
  },
  {
   "cell_type": "code",
   "execution_count": 14,
   "id": "4a3a6915",
   "metadata": {
    "ExecuteTime": {
     "end_time": "2022-08-09T11:59:25.859572Z",
     "start_time": "2022-08-09T11:59:25.849598Z"
    }
   },
   "outputs": [
    {
     "data": {
      "text/plain": [
       "[20000, 15000, 1500, 1200, 1000, 900, 270, 100]"
      ]
     },
     "execution_count": 14,
     "metadata": {},
     "output_type": "execute_result"
    }
   ],
   "source": [
    "vendas.sort(reverse=True)\n",
    "vendas"
   ]
  },
  {
   "cell_type": "markdown",
   "id": "95232853",
   "metadata": {},
   "source": [
    "# Print de Listas\n",
    "\n",
    "2 Opções:\n",
    "- print \"normal\"\n",
    "- método join -> texto.join(lista)"
   ]
  },
  {
   "cell_type": "code",
   "execution_count": 23,
   "id": "90910fca",
   "metadata": {
    "ExecuteTime": {
     "end_time": "2022-08-09T12:04:02.865961Z",
     "start_time": "2022-08-09T12:04:02.847060Z"
    }
   },
   "outputs": [
    {
     "name": "stdout",
     "output_type": "stream",
     "text": [
      "['apple tv', 'mac', 'iphone x', 'iphone 11', 'IPad', 'apple watch', 'mac book', 'airpods']\n",
      "apple tv-mac-iphone x-iphone 11-IPad-apple watch-mac book-airpods\n"
     ]
    }
   ],
   "source": [
    "produtos = ['apple tv', 'mac', 'iphone x', 'iphone 11', 'IPad', 'apple watch', 'mac book', 'airpods']\n",
    "print(produtos)\n",
    "\n",
    "print('-'.join(produtos))"
   ]
  },
  {
   "cell_type": "markdown",
   "id": "f088f8e3",
   "metadata": {},
   "source": [
    "Lembrando do método split de strings:\n",
    "\n",
    "lista = texto.split(separador)"
   ]
  },
  {
   "cell_type": "code",
   "execution_count": 30,
   "id": "11da48fd",
   "metadata": {
    "ExecuteTime": {
     "end_time": "2022-08-09T12:06:39.357791Z",
     "start_time": "2022-08-09T12:06:39.348815Z"
    }
   },
   "outputs": [
    {
     "name": "stdout",
     "output_type": "stream",
     "text": [
      "apple tv, mac, iphone x, iphone 11, IPad, apple watch, mac book, airpods\n",
      "['apple tv', 'mac', 'iphone x', 'iphone 11', 'IPad', 'apple watch', 'mac book', 'airpods']\n"
     ]
    }
   ],
   "source": [
    "produtos = 'apple tv, mac, iphone x, iphone 11, IPad, apple watch, mac book, airpods'\n",
    "print(produtos)\n",
    "\n",
    "lista = produtos.split(', ')\n",
    "print(lista)"
   ]
  },
  {
   "cell_type": "code",
   "execution_count": null,
   "id": "3c86d2ae",
   "metadata": {},
   "outputs": [],
   "source": []
  },
  {
   "cell_type": "code",
   "execution_count": null,
   "id": "3f789c9a",
   "metadata": {},
   "outputs": [],
   "source": []
  },
  {
   "cell_type": "markdown",
   "id": "aa870b95",
   "metadata": {
    "id": "XiEEOSApViQo"
   },
   "source": [
    "# Métodos Específicos de Lista em Python"
   ]
  },
  {
   "cell_type": "markdown",
   "id": "68924c31",
   "metadata": {
    "id": "bpPjA8JVViQo"
   },
   "source": [
    "- list.append(valor)<br>\n",
    "Adiciona um valor ao final de uma lista"
   ]
  },
  {
   "cell_type": "markdown",
   "id": "1de66d4e",
   "metadata": {
    "id": "gpkYqzvdViQo"
   },
   "source": [
    "Uso:\n",
    "    vendas = [150, 320]\n",
    "    vendas.append(110)\n",
    "Resultado:\n",
    "    vendas = [150, 320, 110]"
   ]
  },
  {
   "cell_type": "markdown",
   "id": "de713180",
   "metadata": {
    "id": "DGA4nkylViQo"
   },
   "source": [
    "- list.extend(lista2)<br>\n",
    "Adiciona todos os valores da lista2 na lista original"
   ]
  },
  {
   "cell_type": "markdown",
   "id": "8930b1f2",
   "metadata": {
    "id": "55qW5iIdViQp"
   },
   "source": [
    "Uso:\n",
    "    vendas = [150, 320, 110, 450, 390, 370]\n",
    "    vendas_2semestre = [440, 470, 900, 1000, 1100, 1050]\n",
    "    vendas.extend(vendas_2semestre)\n",
    "Resultado:\n",
    "    vendas = [150, 320, 110, 450, 390, 370, 440, 470, 900, 1000, 1100, 1050]"
   ]
  },
  {
   "cell_type": "markdown",
   "id": "1bd45691",
   "metadata": {
    "id": "p8M8_983ViQp"
   },
   "source": [
    "- list.insert(posicao, valor)<br>\n",
    "Adiciona um valor em uma posição específica em uma lista. Não é recomendado usar a não ser que seja realmente necessário inserir em uma posição específica, porque o método append é mais eficiente."
   ]
  },
  {
   "cell_type": "markdown",
   "id": "5269c7cf",
   "metadata": {
    "id": "JXu1buUUViQp"
   },
   "source": [
    "Uso:\n",
    "    vendas = [150, 320]\n",
    "    vendas.insert(1, 110)\n",
    "Resultado:\n",
    "    vendas = [150, 110, 320]\n",
    "Obs:\n",
    "    Compare com o caso do list.append para ver a diferença"
   ]
  },
  {
   "cell_type": "markdown",
   "id": "dda9a72d",
   "metadata": {
    "id": "wwkTJjiUViQp"
   },
   "source": [
    "- list.remove(valor)<br>\n",
    "Remove o valor da lista (apenas a 1ª ocorrência, então caso haja 2 vezes o valor na lista, apenas a 1ª será removida). Além disso, dá um erro caso valor não exista dentro da lista."
   ]
  },
  {
   "cell_type": "markdown",
   "id": "3301d801",
   "metadata": {
    "id": "SFTmdpk_ViQp"
   },
   "source": [
    "Uso:\n",
    "    vendedores = ['João', 'Julia', 'Maria', 'Ana', 'Paulo', 'Marcus']\n",
    "    vendedores.remove('Maria')\n",
    "Resultado:\n",
    "    vendedores = ['João', 'Julia', 'Ana', 'Paulo', 'Marcus']"
   ]
  },
  {
   "cell_type": "markdown",
   "id": "09ccc85e",
   "metadata": {
    "id": "u6ZUIdKQViQp"
   },
   "source": [
    "- list.pop(posicao)<br>\n",
    "Remove o item que está na posicao (índice) passado. Além disso, esse item é dado como resultado do pop, portanto pode ser armazenado em uma variável ou usado para outra coisa na mesma linha de código."
   ]
  },
  {
   "cell_type": "markdown",
   "id": "b0f303e3",
   "metadata": {
    "id": "pSJy5lVAViQp"
   },
   "source": [
    "Uso:<br>\n",
    "    vendedores = ['João', 'Julia', 'Maria', 'Ana', 'Paulo', 'Marcus']<br>\n",
    "    vendedores.pop(2)<br>\n",
    "Resultado:<br>\n",
    "    vendedores = ['João', 'Julia', 'Ana', 'Paulo', 'Marcus']"
   ]
  },
  {
   "cell_type": "markdown",
   "id": "5d3257e8",
   "metadata": {
    "id": "dqvw3vI2ViQp"
   },
   "source": [
    "- list.clear()<br>\n",
    "Remove todos os itens de uma lista"
   ]
  },
  {
   "cell_type": "markdown",
   "id": "54fc83d3",
   "metadata": {
    "id": "uGJHsiryViQp"
   },
   "source": [
    "Uso:\n",
    "    vendedores = ['João', 'Julia', 'Maria', 'Ana', 'Paulo', 'Marcus']\n",
    "    vendedores.clear()\n",
    "Resultado:\n",
    "    vendedores = []"
   ]
  },
  {
   "cell_type": "markdown",
   "id": "dc72ee77",
   "metadata": {
    "id": "uDRRE6rdViQp"
   },
   "source": [
    "- list.index(valor)<br>\n",
    "Retorna a posição do valor dentro da lista (em qual índice está o valor). Dá erro caso não haja o valor dentro da lista."
   ]
  },
  {
   "cell_type": "markdown",
   "id": "03a52667",
   "metadata": {
    "id": "aYI3rDkNViQp"
   },
   "source": [
    "Uso:\n",
    "    vendedores = ['João', 'Julia', 'Maria', 'Ana', 'Paulo', 'Marcus']\n",
    "    posicao_Joao = vendedores.index('João')\n",
    "Resultado:\n",
    "    posicao_Joao = 0"
   ]
  },
  {
   "cell_type": "markdown",
   "id": "90c3f954",
   "metadata": {
    "id": "Xb-Do8xvViQp"
   },
   "source": [
    "- list.count(valor)<br>\n",
    "Retorna a quantidade de vezes que o valor aparece na lista"
   ]
  },
  {
   "cell_type": "markdown",
   "id": "2e76918f",
   "metadata": {
    "id": "Lga7PFtXViQq"
   },
   "source": [
    "Uso:\n",
    "    vendedores = ['João', 'Julia', 'Maria', 'Ana', 'Paulo', 'Marcus', 'João']\n",
    "    qtde_Joao = vendedores.count('João')\n",
    "Resultado:\n",
    "    qtde_Joao = 2"
   ]
  },
  {
   "cell_type": "markdown",
   "id": "8fe14e93",
   "metadata": {
    "id": "WNBFfk6nViQq"
   },
   "source": [
    "- list.sort(reverse=False)<br>\n",
    "Ordena os valores da lista em ordem crescente, ou alfabética, (reverse=False) ou decrescente (reverse=True)."
   ]
  },
  {
   "cell_type": "markdown",
   "id": "8ea2e999",
   "metadata": {
    "id": "ZBQL2GSSViQq"
   },
   "source": [
    "Uso:\n",
    "    vendas = [150, 300, 190, 480]\n",
    "    vendas.sort(reverse=True)\n",
    "Resultado:\n",
    "    vendas = [480, 300, 190, 150]"
   ]
  },
  {
   "cell_type": "markdown",
   "id": "c9d23b91",
   "metadata": {
    "id": "q6XpeL_yViQq"
   },
   "source": [
    "- list.reverse()<br>\n",
    "Inverte a ordem dos elementos de uma lista."
   ]
  },
  {
   "cell_type": "markdown",
   "id": "b60c1fcc",
   "metadata": {
    "id": "LMtfecEHViQq"
   },
   "source": [
    "Uso:\n",
    "    vendas = [150, 300, 190, 480]\n",
    "    vendas.reverse()\n",
    "Resultado:\n",
    "    vendas = [480, 190, 300, 150]"
   ]
  },
  {
   "cell_type": "markdown",
   "id": "9c0504d0",
   "metadata": {
    "id": "plMfNqx1ViQq"
   },
   "source": [
    "- list.copy()<br>\n",
    "Cria uma cópia da lista original. Outra opção é fazer lista2 = lista1[:]"
   ]
  },
  {
   "cell_type": "markdown",
   "id": "449c9f08",
   "metadata": {
    "id": "hS4K-QzmViQq"
   },
   "source": [
    "Uso:\n",
    "    vendas = [150, 300, 190, 480]\n",
    "    vendas2 = vendas.copy()\n",
    "Resultado:\n",
    "    vendas2 = [150, 300, 190, 480]"
   ]
  },
  {
   "cell_type": "markdown",
   "id": "cb864351",
   "metadata": {},
   "source": [
    "# Exercícios\n",
    "\n",
    "## 1. Faturamento do Melhor e do Pior Mês do Ano\n",
    "\n",
    "Qual foi o valor de vendas do melhor mês do Ano?\n",
    "E valor do pior mês do ano?"
   ]
  },
  {
   "cell_type": "code",
   "execution_count": 36,
   "id": "adfc5a47",
   "metadata": {
    "ExecuteTime": {
     "end_time": "2022-08-09T12:26:12.672256Z",
     "start_time": "2022-08-09T12:26:12.652309Z"
    }
   },
   "outputs": [
    {
     "name": "stdout",
     "output_type": "stream",
     "text": [
      "49051\n",
      "9650\n"
     ]
    }
   ],
   "source": [
    "meses = ['jan', 'fev', 'mar', 'abr', 'mai', 'jun', 'jul', \n",
    "         'ago', 'set', 'out', 'nov', 'dez']\n",
    "vendas_1sem = [25000, 29000, 22200, 17750, 15870, 19900]\n",
    "vendas_2sem = [19850, 20120, 17540, 15555, 49051, 9650]\n",
    "\n",
    "vendas_1sem.extend(vendas_2sem)\n",
    "maior_valor = max(vendas_1sem)\n",
    "menor_valor = min(vendas_2sem)\n",
    "print(maior_valor)\n",
    "print(menor_valor)"
   ]
  },
  {
   "cell_type": "code",
   "execution_count": 37,
   "id": "6030d600",
   "metadata": {
    "ExecuteTime": {
     "end_time": "2022-08-09T12:26:13.175821Z",
     "start_time": "2022-08-09T12:26:13.154878Z"
    }
   },
   "outputs": [
    {
     "name": "stdout",
     "output_type": "stream",
     "text": [
      "[25000, 29000, 22200, 17750, 15870, 19900, 19850, 20120, 17540, 15555, 49051, 9650]\n"
     ]
    }
   ],
   "source": [
    "print(vendas_1sem)"
   ]
  },
  {
   "cell_type": "markdown",
   "id": "aabb9abc",
   "metadata": {},
   "source": [
    "## 2. Continuação\n",
    "\n",
    "Agora relacione as duas listas para printar 'O melhor mês do ano foi {} com {} vendas' e o mesmo para o pior mês do ano.\n",
    "\n",
    "Calcule também o faturamento total do Ano e quanto que o melhor mês representou do faturamento total.\n",
    "\n",
    "Obs: Para o faturamento total, pode usar a função sum(lista) que soma todos os itens de uma lista"
   ]
  },
  {
   "cell_type": "code",
   "execution_count": 38,
   "id": "d0c62146",
   "metadata": {
    "ExecuteTime": {
     "end_time": "2022-08-09T12:26:13.809072Z",
     "start_time": "2022-08-09T12:26:13.788128Z"
    }
   },
   "outputs": [
    {
     "name": "stdout",
     "output_type": "stream",
     "text": [
      "10\n",
      "11\n",
      "O Melhor mes de vendas foi nov com o total de 49051 em vendas\n",
      "O Pio mes de vendas foi dez com o total de 9650 em vendas\n",
      "O Faturamento total  foi de R$261,486\n",
      "O Melhor mes representou 18.76% das vendas no ano\n"
     ]
    }
   ],
   "source": [
    "idx_maior = vendas_1sem.index(maior_valor)\n",
    "idx_menor = vendas_1sem.index(menor_valor)\n",
    "print(idx_maior)\n",
    "print(idx_menor)\n",
    "\n",
    "print(f'O Melhor mes de vendas foi {meses[idx_maior]} com o total de {maior_valor} em vendas')\n",
    "print(f'O Pio mes de vendas foi {meses[idx_menor]} com o total de {menor_valor} em vendas')\n",
    "\n",
    "fat_total = sum(vendas_1sem)\n",
    "print(f'O Faturamento total  foi de R${fat_total:,}')\n",
    "\n",
    "percentual = maior_valor / fat_total\n",
    "print(f'O Melhor mes representou {percentual:.2%} das vendas no ano')"
   ]
  },
  {
   "cell_type": "markdown",
   "id": "c6b327bf",
   "metadata": {},
   "source": [
    "## 3. Crie uma lista com o top 3 valores de vendas do ano (sem fazer \"no olho\")\n",
    "\n",
    "Dica: o método remove retira um item da lista."
   ]
  },
  {
   "cell_type": "code",
   "execution_count": 42,
   "id": "c6dfdb91",
   "metadata": {
    "ExecuteTime": {
     "end_time": "2022-08-09T12:27:05.801172Z",
     "start_time": "2022-08-09T12:27:05.779504Z"
    }
   },
   "outputs": [
    {
     "data": {
      "text/plain": [
       "[25000, 29000, 49051]"
      ]
     },
     "execution_count": 42,
     "metadata": {},
     "output_type": "execute_result"
    }
   ],
   "source": [
    "# Forma mais simples\n",
    "vendas_1sem.extend(vendas_2sem)\n",
    "vendas = vendas_1sem.sort(reverse=False)\n",
    "\n",
    "top3 = vendas_1sem[-3:]\n",
    "top3"
   ]
  },
  {
   "cell_type": "code",
   "execution_count": 40,
   "id": "276d7d23",
   "metadata": {
    "ExecuteTime": {
     "end_time": "2022-08-09T12:26:15.149549Z",
     "start_time": "2022-08-09T12:26:15.124309Z"
    }
   },
   "outputs": [
    {
     "name": "stdout",
     "output_type": "stream",
     "text": [
      "[49051, 29000, 25000, 22200, 20120, 19900, 19850, 17750, 17540, 15870, 15555, 9650]\n",
      "[49051]\n",
      "[29000, 25000, 22200, 20120, 19900, 19850, 17750, 17540, 15870, 15555, 9650]\n",
      "29000\n"
     ]
    }
   ],
   "source": [
    "vendas = vendas_1sem\n",
    "\n",
    "top3 = []\n",
    "\n",
    "print(vendas_1sem)\n",
    "maior_valor = max(vendas_1sem)\n",
    "top3.append(maior_valor)\n",
    "print(top3)\n",
    "vendas_1sem.remove(maior_valor)\n",
    "print(vendas_1sem)\n",
    "maior_valor = max(vendas_1sem)\n",
    "print(maior_valor)"
   ]
  },
  {
   "cell_type": "code",
   "execution_count": null,
   "id": "01b6715d",
   "metadata": {},
   "outputs": [],
   "source": []
  },
  {
   "cell_type": "markdown",
   "id": "e477a40b",
   "metadata": {},
   "source": [
    "# Alterações de Variáveis\n",
    "\n",
    "Estrutura:\n",
    "\n",
    "- variavel = variavel + outro_valor\n",
    "\n",
    "ou então\n",
    "\n",
    "- variavel += outro_valor"
   ]
  },
  {
   "cell_type": "markdown",
   "id": "30b12eaf",
   "metadata": {},
   "source": [
    "Exemplo: vamos adicionar às variáveis criadas o Produto IPad, 500 vendas"
   ]
  },
  {
   "cell_type": "code",
   "execution_count": 43,
   "id": "ff8bbad3",
   "metadata": {
    "ExecuteTime": {
     "end_time": "2022-08-09T12:35:19.218862Z",
     "start_time": "2022-08-09T12:35:19.206226Z"
    }
   },
   "outputs": [
    {
     "name": "stdout",
     "output_type": "stream",
     "text": [
      "Esse mês vendemos um total de 300 produtos, sendo:\n",
      "100 unidades de mac\n",
      "200 unidades de iphone\n"
     ]
    }
   ],
   "source": [
    "lista = ['mac', 'iphone']\n",
    "vendas = [100, 200]\n",
    "#adicionando IPad na lista\n",
    "\n",
    "\n",
    "soma_vendas = 300\n",
    "#adicionando na soma a quantidade de IPad\n",
    "\n",
    "email = 'Esse mês vendemos um total de {} produtos, sendo:\\n{} unidades de {}\\n{} unidades de {}'.format(soma_vendas, vendas[0], lista[0], vendas[1], lista[1])\n",
    "#adicionando no fim do texto o Ipad\n",
    "\n",
    "\n",
    "print(email)"
   ]
  },
  {
   "cell_type": "markdown",
   "id": "3f900ba8",
   "metadata": {},
   "source": [
    "Exemplo: vamos adicionar às variáveis criadas o Produto IPad, 500 vendas"
   ]
  },
  {
   "cell_type": "code",
   "execution_count": null,
   "id": "b3b38b1f",
   "metadata": {},
   "outputs": [],
   "source": []
  },
  {
   "cell_type": "markdown",
   "id": "61bdee28",
   "metadata": {},
   "source": [
    "# Copiar e \"Igualdade\" de Listas\n",
    "\n",
    "### Estrutura:\n",
    "\n",
    "- Quando fazemos:<br>\n",
    "lista2 = lista1<br>\n",
    "não estamos criando uma lista nova, mas estamos atribuindo outra variável à mesma lista.\n",
    "\n",
    "- Se quisermos copiar lista devemos fazer<br>\n",
    "lista2 = lista1.copy()<br>\n",
    "ou entao<br>\n",
    "lista2 = lista1[:]\n",
    "\n",
    "Para entender bem isso, vamos ver na prática:"
   ]
  },
  {
   "cell_type": "code",
   "execution_count": 44,
   "id": "5a2fca40",
   "metadata": {
    "ExecuteTime": {
     "end_time": "2022-08-09T12:39:43.601001Z",
     "start_time": "2022-08-09T12:39:43.582004Z"
    }
   },
   "outputs": [
    {
     "name": "stdout",
     "output_type": "stream",
     "text": [
      "['ipad', 'iphone 11', 'apple tv']\n"
     ]
    }
   ],
   "source": [
    "lista = ['ipad', 'iphone x', 'apple tv']\n",
    "lista2 = lista\n",
    "\n",
    "lista[1] = 'iphone 11'\n",
    "\n",
    "print(lista2)"
   ]
  },
  {
   "cell_type": "markdown",
   "id": "0f93a762",
   "metadata": {},
   "source": [
    "### Agora copiando:"
   ]
  },
  {
   "cell_type": "code",
   "execution_count": 45,
   "id": "09b97c2e",
   "metadata": {
    "ExecuteTime": {
     "end_time": "2022-08-09T12:39:44.375982Z",
     "start_time": "2022-08-09T12:39:44.355689Z"
    }
   },
   "outputs": [
    {
     "name": "stdout",
     "output_type": "stream",
     "text": [
      "['ipad', 'iphone x', 'apple tv']\n"
     ]
    }
   ],
   "source": [
    "lista = ['ipad', 'iphone x', 'apple tv']\n",
    "lista2 = lista.copy()\n",
    "\n",
    "lista[1] = 'iphone 11'\n",
    "\n",
    "print(lista2)"
   ]
  },
  {
   "cell_type": "markdown",
   "id": "b7fb099f",
   "metadata": {},
   "source": [
    "# Listas de Listas\n",
    "\n",
    "### Estrutura:\n",
    "\n",
    "Cada item de uma lista pode ser qualquer tipo de variável. Inclusive, uma lista.\n",
    "\n",
    "Quando dentro de uma lista temos cada item como sendo uma outra lista, temos uma \"nested list\", ou seja, uma lista de listas.\n",
    "\n",
    "Todas as regras de lista e tudo que vimos até agora funciona exatamente igual, mas vamos ver como isso funciona na prática"
   ]
  },
  {
   "cell_type": "code",
   "execution_count": 1,
   "id": "729c04cf",
   "metadata": {
    "ExecuteTime": {
     "end_time": "2022-08-09T12:59:14.100756Z",
     "start_time": "2022-08-09T12:59:14.068894Z"
    }
   },
   "outputs": [],
   "source": [
    "vendedores = ['Lira', 'João', 'Diego', 'Alon']\n",
    "produtos = ['ipad', 'iphone']\n",
    "vendas = [[100, 200],\n",
    "          [300, 500],\n",
    "          [50, 1000],\n",
    "          [900, 10],]"
   ]
  },
  {
   "cell_type": "markdown",
   "id": "dd86cc77",
   "metadata": {},
   "source": [
    "- Quanto João vendeu de IPad?\n",
    "- Quanto Diego vendeu de IPhone\n",
    "- Qual o total de vendas de IPhone?"
   ]
  },
  {
   "cell_type": "code",
   "execution_count": 2,
   "id": "3e635dd3",
   "metadata": {
    "ExecuteTime": {
     "end_time": "2022-08-09T12:59:14.132197Z",
     "start_time": "2022-08-09T12:59:14.105743Z"
    }
   },
   "outputs": [
    {
     "name": "stdout",
     "output_type": "stream",
     "text": [
      "Joao Vendeu de IPad 300\n"
     ]
    }
   ],
   "source": [
    "vendas_joao = vendas[1][0]\n",
    "print(f'Joao Vendeu de IPad {vendas_joao}')"
   ]
  },
  {
   "cell_type": "code",
   "execution_count": 3,
   "id": "6a4e2382",
   "metadata": {
    "ExecuteTime": {
     "end_time": "2022-08-09T12:59:14.147722Z",
     "start_time": "2022-08-09T12:59:14.135173Z"
    }
   },
   "outputs": [
    {
     "name": "stdout",
     "output_type": "stream",
     "text": [
      "Diego vendeu 1000\n"
     ]
    }
   ],
   "source": [
    "vendas_diego = vendas[2][1]\n",
    "print(f'Diego vendeu {vendas_diego}')"
   ]
  },
  {
   "cell_type": "code",
   "execution_count": 4,
   "id": "f0b480ed",
   "metadata": {
    "ExecuteTime": {
     "end_time": "2022-08-09T12:59:14.178517Z",
     "start_time": "2022-08-09T12:59:14.152672Z"
    }
   },
   "outputs": [
    {
     "name": "stdout",
     "output_type": "stream",
     "text": [
      "Total de Vendas de Iphone 1710\n"
     ]
    }
   ],
   "source": [
    "vendas_iphone = vendas[0][1] + vendas[1][1] + vendas [2][1] + vendas[3][1]\n",
    "print(f'Total de Vendas de Iphone {vendas_iphone}')"
   ]
  },
  {
   "cell_type": "markdown",
   "id": "07281b14",
   "metadata": {},
   "source": [
    "- E se Lira na verdade fez apenas 50 vendas de IPhone, como eu modifico na minha lista o valor de vendas dele?"
   ]
  },
  {
   "cell_type": "code",
   "execution_count": 5,
   "id": "9bebc4f9",
   "metadata": {
    "ExecuteTime": {
     "end_time": "2022-08-09T12:59:14.194524Z",
     "start_time": "2022-08-09T12:59:14.181587Z"
    }
   },
   "outputs": [
    {
     "name": "stdout",
     "output_type": "stream",
     "text": [
      "[[100, 50], [300, 500], [50, 1000], [900, 10]]\n"
     ]
    }
   ],
   "source": [
    "vendas[0][1] = 50\n",
    "print(vendas)"
   ]
  },
  {
   "cell_type": "markdown",
   "id": "d5aef7f1",
   "metadata": {},
   "source": [
    "- E se agora eu tenho um novo produto 'mac', como eu adiciono as vendas em cada um dos vendedores?"
   ]
  },
  {
   "cell_type": "code",
   "execution_count": 6,
   "id": "1b0f5aaf",
   "metadata": {
    "ExecuteTime": {
     "end_time": "2022-08-09T12:59:14.224881Z",
     "start_time": "2022-08-09T12:59:14.198761Z"
    }
   },
   "outputs": [
    {
     "name": "stdout",
     "output_type": "stream",
     "text": [
      "[[100, 50, 10], [300, 500, 15], [50, 1000, 6], [900, 10, 22]]\n"
     ]
    }
   ],
   "source": [
    "vendas_mac = [10, 15, 6, 22]\n",
    "\n",
    "vendas[0].append(vendas_mac[0])\n",
    "vendas[1].append(vendas_mac[1])\n",
    "vendas[2].append(vendas_mac[2])\n",
    "vendas[3].append(vendas_mac[3])\n",
    "\n",
    "\n",
    "\n",
    "print(vendas)"
   ]
  },
  {
   "cell_type": "code",
   "execution_count": null,
   "id": "770f6743",
   "metadata": {},
   "outputs": [],
   "source": []
  },
  {
   "cell_type": "markdown",
   "id": "eec654ec",
   "metadata": {},
   "source": [
    "# Exercícios\n",
    "\n",
    "## 1. Mudança de Carga Tributária\n",
    "\n",
    "- Reformas e mudanças de cargas tributárias são bem comuns no Brasil.\n",
    "\n",
    "Digamos que você trabalhe em uma empresa de ecommerce\n",
    "\n",
    "No Brasil, o imposto sobre livros é zerado. De um ano para o outro, o governo criou um novo imposto que incide em 10% sobre o valor dos livros e agora você precisa alterar o registro dos preços dos livros da empresa para garantir que esse imposto vai ser repassado para o preço final do produto.\n",
    "\n",
    "Crie um código que recalcule o valor do livro da sua lista de produtos e ajuste na tabela.\n",
    "\n",
    "Além disso, calcule qual vai ser o impacto financeiro da criação desse imposto para a empresa (ou seja, quanto que o imposto vai aumentar de custo para a empresa)\n",
    "\n",
    "Obs: para facilitar, colocamos apenas 1 livro na lista, mas em breve vamos aprender um for que vai adaptar esse cenário para qualquer quantidade de livros na sua lista.\n",
    "\n",
    "Obs2: Seu código deve funcionar mesmo que não haja livros na lista de produtos da empresa"
   ]
  },
  {
   "cell_type": "code",
   "execution_count": 19,
   "id": "c48fb566",
   "metadata": {
    "ExecuteTime": {
     "end_time": "2022-08-09T13:12:01.320018Z",
     "start_time": "2022-08-09T13:12:01.297553Z"
    }
   },
   "outputs": [
    {
     "name": "stdout",
     "output_type": "stream",
     "text": [
      "2000000.00\n",
      "Vamor Pagar de Imposto a mais: 200000.0\n"
     ]
    }
   ],
   "source": [
    "produtos = ['computador', 'livro', 'tablet', 'celular', 'tv', \n",
    "            'ar condicionado', 'alexa', 'máquina de café', 'kindle']\n",
    "\n",
    "#cada item da lista dos produtos corresponde a quantidade de vendas no mês e preço, nessa ordem\n",
    "produtos_ecommerce = [[10000, 2500], [50000, 40],\n",
    "                        [7000, 1200], [20000, 1500],\n",
    "                        [5800, 1300], [7200, 2500],\n",
    "                        [200, 800], [3300, 700],\n",
    "                        [1900, 400]]\n",
    "\n",
    "qtd = 50000\n",
    "preco = 40\n",
    "total = qtd * preco\n",
    "print(f'{total:.2f}')\n",
    "\n",
    "\n",
    "if 'livro' in produtos:\n",
    "    i_livro                        = produtos.index('livro')\n",
    "    total_antigo                   = produtos_ecommerce[i_livro][0] * produtos_ecommerce[i_livro][1]\n",
    "    produtos_ecommerce[i_livro][1] = produtos_ecommerce[i_livro][1] * 1.1\n",
    "    novo_total                     = produtos_ecommerce[i_livro][0] * produtos_ecommerce[i_livro][1]\n",
    "    print(f'Vamor Pagar de Imposto a mais: {novo_total - total_antigo}')\n"
   ]
  },
  {
   "cell_type": "code",
   "execution_count": null,
   "id": "1b7156a2",
   "metadata": {},
   "outputs": [],
   "source": []
  },
  {
   "cell_type": "code",
   "execution_count": null,
   "id": "408f18e7",
   "metadata": {},
   "outputs": [],
   "source": []
  },
  {
   "cell_type": "code",
   "execution_count": null,
   "id": "a072cf85",
   "metadata": {},
   "outputs": [],
   "source": []
  },
  {
   "cell_type": "code",
   "execution_count": null,
   "id": "13c7c695",
   "metadata": {},
   "outputs": [],
   "source": []
  },
  {
   "cell_type": "code",
   "execution_count": null,
   "id": "ee2d73ee",
   "metadata": {},
   "outputs": [],
   "source": []
  },
  {
   "cell_type": "code",
   "execution_count": null,
   "id": "b16725ec",
   "metadata": {},
   "outputs": [],
   "source": []
  },
  {
   "cell_type": "code",
   "execution_count": null,
   "id": "2ad85ce1",
   "metadata": {},
   "outputs": [],
   "source": []
  },
  {
   "cell_type": "code",
   "execution_count": null,
   "id": "4cb1650b",
   "metadata": {},
   "outputs": [],
   "source": []
  },
  {
   "cell_type": "code",
   "execution_count": null,
   "id": "2f35bc86",
   "metadata": {},
   "outputs": [],
   "source": []
  },
  {
   "cell_type": "code",
   "execution_count": null,
   "id": "640feb99",
   "metadata": {},
   "outputs": [],
   "source": []
  },
  {
   "cell_type": "code",
   "execution_count": null,
   "id": "4a6d8738",
   "metadata": {},
   "outputs": [],
   "source": []
  },
  {
   "cell_type": "code",
   "execution_count": null,
   "id": "98b22a69",
   "metadata": {},
   "outputs": [],
   "source": []
  },
  {
   "cell_type": "code",
   "execution_count": null,
   "id": "22cc2885",
   "metadata": {},
   "outputs": [],
   "source": []
  }
 ],
 "metadata": {
  "kernelspec": {
   "display_name": "Python 3 (ipykernel)",
   "language": "python",
   "name": "python3"
  },
  "language_info": {
   "codemirror_mode": {
    "name": "ipython",
    "version": 3
   },
   "file_extension": ".py",
   "mimetype": "text/x-python",
   "name": "python",
   "nbconvert_exporter": "python",
   "pygments_lexer": "ipython3",
   "version": "3.9.12"
  }
 },
 "nbformat": 4,
 "nbformat_minor": 5
}
