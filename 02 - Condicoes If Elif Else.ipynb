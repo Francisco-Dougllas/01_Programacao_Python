{
 "cells": [
  {
   "cell_type": "markdown",
   "id": "b82597bb",
   "metadata": {},
   "source": [
    "Você precisa criar um programa que vai analisar o resultado de vendas dos produtos da Amazon em um mês. \n",
    "\n",
    "Meta de Vendas do Iphone = 50.000 unidades\n",
    "Quantidade vendida no Mês = 65.300 unidades\n",
    "\n",
    "Caso o produto tenha batido a meta, devemos exibir a mensagem: \"Batemos a meta de vendas de Iphone, vendemos {} unidades\"\n",
    "Se ele não bateu a meta do mês, o seu programa não deve fazer nada"
   ]
  },
  {
   "cell_type": "code",
   "execution_count": 2,
   "id": "e8a76f45",
   "metadata": {
    "ExecuteTime": {
     "end_time": "2022-08-30T09:13:47.137781Z",
     "start_time": "2022-08-30T09:13:40.352906Z"
    }
   },
   "outputs": [
    {
     "name": "stdout",
     "output_type": "stream",
     "text": [
      "Nome do Produto: Celular\n",
      "Quantidade de vendas de Celular nom mes: 56000\n",
      "Conseguimos supera a meta de 50000 vendas, vendemos 56000.0 unidades\n"
     ]
    }
   ],
   "source": [
    "produto = str(input('Nome do Produto: '))\n",
    "meta = 50000\n",
    "qtd_vendas = float(input(f'Quantidade de vendas de {produto} nom mes: '))\n",
    "\n",
    "if qtd_vendas < meta:\n",
    "    print(f'Infelizmente não batemos a meta de {meta} vendas no mes')\n",
    "elif qtd_vendas == meta:\n",
    "    print('Conseguimos bate a meta do mes')\n",
    "else:\n",
    "    print(f'Conseguimos supera a meta de {meta} vendas, vendemos {qtd_vendas} unidades')"
   ]
  },
  {
   "cell_type": "markdown",
   "id": "e891685a",
   "metadata": {},
   "source": [
    "Digamos que você precisa criar um programa para um fundo de investimentos conseguir avaliar o resultado de uma carteira de ações e o quanto de taxa deverá ser pago.\n",
    "\n",
    "A regra desse fundo de investimentos é:\n",
    "\n",
    "O fundo se compromete a entregar no mínimo 5% de retorno ao ano.\n",
    "Caso o fundo não consiga entregar os 5% de retorno, ele não pode cobrar taxa dos seus investidores.\n",
    "Caso o fundo consiga entregar mais de 5% de retorno, ele irá cobrar 2% de taxa dos seus investidores.\n",
    "Caso o fundo consiga mais de 20% de retorno, ele irá cobrar 4% de taxa dos seus investidores."
   ]
  },
  {
   "cell_type": "code",
   "execution_count": 14,
   "id": "715f7f93",
   "metadata": {
    "ExecuteTime": {
     "end_time": "2022-08-30T09:32:52.020796Z",
     "start_time": "2022-08-30T09:32:41.812285Z"
    }
   },
   "outputs": [
    {
     "name": "stdout",
     "output_type": "stream",
     "text": [
      "Digite o Nome do fundo: 56789\n",
      "Qual o Capital R$ do fundo 56789: 7890\n",
      "Qual foi o Lucro R$ do fundo 56789: 3466\n",
      "Tivemos um rendimento de 30.52% do capital do fundo\n",
      "A Taxa do fundo sera de 4%\n"
     ]
    }
   ],
   "source": [
    "meta_fundo = 0.05\n",
    "taxa_fundo = 0\n",
    "nome_fundo    = str(input('Digite o Nome do fundo: '))\n",
    "capital_fundo = float(input(f'Qual o Capital R$ do fundo {nome_fundo}: '))\n",
    "lucro_fundo   = float(input(f'Qual foi o Lucro R$ do fundo {nome_fundo}: '))\n",
    "rendimento    = (100 / (capital_fundo + lucro_fundo)) * lucro_fundo\n",
    "print(f'Tivemos um rendimento de {rendimento:.2f}% do capital do fundo')\n",
    "\n",
    "if rendimento > meta_fundo:\n",
    "    if rendimento > 20:\n",
    "        taxa_fundo = 4\n",
    "        print(f'A Taxa do fundo sera de {taxa_fundo}%')\n",
    "    else:\n",
    "        taxa_fundo = 2\n",
    "        print(f'A Taxa do fundo sera de {taxa_fundo}%')\n",
    "else:\n",
    "    taxa_fundo = 0\n",
    "    print(f'A Taxa do fundo não sera cobrada')"
   ]
  },
  {
   "cell_type": "markdown",
   "id": "92ac21e7",
   "metadata": {},
   "source": [
    "Vamos criar um programa para analisar o bônus dos funcionários de uma empresa (pode parecer \"simples\", mas uma empresa como a Amazon tem 900.000 funcionários)\n",
    "\n",
    "Para os cargos de vendedores, a regra do bônus é de acordo com a meta de vendas da pessoa:\n",
    "Se ela vendeu abaixo da meta dela, ela não ganha bônus.\n",
    "Se ela vendeu acima da meta dela, ela ganha como bônus 3% do valor que ela vendeu.\n",
    "Se ela vendeu mais do que o dobro da meta dela, ela ganha como bônus 7% do valor que ela vendeu.\n",
    "Vamos criar um programa para avaliar uma pessoa que tinha como meta de vendas 20.000 reais e calcular o bônus dela de acordo com o valor de vendas que ela tiver."
   ]
  },
  {
   "cell_type": "code",
   "execution_count": 16,
   "id": "1f20fc78",
   "metadata": {
    "ExecuteTime": {
     "end_time": "2022-08-30T09:39:28.261418Z",
     "start_time": "2022-08-30T09:39:21.590376Z"
    }
   },
   "outputs": [
    {
     "name": "stdout",
     "output_type": "stream",
     "text": [
      "Nome do Vendedor: DG\n",
      "Vendas no mes do(a) DG: 22000\n",
      "O Vendedor DG Atingiu a meta e recebera 660.00R$ de Bonus\n"
     ]
    }
   ],
   "source": [
    "nome_vendedor = str(input('Nome do Vendedor: '))\n",
    "vendas_mes    = float(input(f'Vendas no mes do(a) {nome_vendedor}: '))\n",
    "meta          = 20000\n",
    "\n",
    "if vendas_mes > meta * 2:\n",
    "    bonus = 0.07\n",
    "    print(f'O Vendedor {nome_vendedor} Vendeu o Dobro da meta e recebera {vendas_mes * bonus:.2f}R$ de Bonus')\n",
    "elif vendas_mes > meta:\n",
    "    bonus = 0.03\n",
    "    print(f'O Vendedor {nome_vendedor} Atingiu a meta e recebera {vendas_mes * bonus:.2f}R$ de Bonus')\n",
    "else:\n",
    "    print(f'O Vendedor {nome_vendedor} Não bateu a meta de vendas')"
   ]
  },
  {
   "cell_type": "markdown",
   "id": "c234af7a",
   "metadata": {},
   "source": [
    "## Comparadores\n",
    "\n",
    "\n",
    "        ==    igual\n",
    "        !=    diferente\n",
    "        >     maior que (>= maior ou igual)\n",
    "        <     menor que (<= menor ou igual)\n",
    "        in    texto existe dentro de outro texto \n",
    "        not   verifica o contrário da comparação\n",
    "\n",
    "        Obs: Se em alguma condição você não quiser fazer nada, você pode simplesmente escrever:\n",
    "        pass"
   ]
  },
  {
   "cell_type": "code",
   "execution_count": 17,
   "id": "86fceeab",
   "metadata": {
    "ExecuteTime": {
     "end_time": "2022-08-30T09:46:29.830726Z",
     "start_time": "2022-08-30T09:46:29.814942Z"
    }
   },
   "outputs": [
    {
     "name": "stdout",
     "output_type": "stream",
     "text": [
      "Programa 1\n",
      "Os Faturamentos sao diferentes\n"
     ]
    }
   ],
   "source": [
    "faturamento_loja1 = 2500\n",
    "faturamento_loja2 = 2200\n",
    "email = \"@gmail.com\"\n",
    "\n",
    "print('Programa 1')\n",
    "if faturamento_loja1 == faturamento_loja2:\n",
    "    print('Os Faturamento sao iguais')\n",
    "else:\n",
    "    print('Os Faturamentos sao diferentes')"
   ]
  },
  {
   "cell_type": "code",
   "execution_count": 18,
   "id": "b2f75343",
   "metadata": {
    "ExecuteTime": {
     "end_time": "2022-08-30T09:46:36.994188Z",
     "start_time": "2022-08-30T09:46:36.979479Z"
    }
   },
   "outputs": [
    {
     "name": "stdout",
     "output_type": "stream",
     "text": [
      "Programa 2\n",
      "Esse Email e verdadeiro\n"
     ]
    }
   ],
   "source": [
    "print('Programa 2')\n",
    "\n",
    "if email == '@gmail.com':\n",
    "    print('Esse Email e verdadeiro')\n",
    "else:\n",
    "    print('Email Invalido')"
   ]
  },
  {
   "cell_type": "code",
   "execution_count": 19,
   "id": "68e2a402",
   "metadata": {
    "ExecuteTime": {
     "end_time": "2022-08-30T09:46:43.463907Z",
     "start_time": "2022-08-30T09:46:43.443626Z"
    }
   },
   "outputs": [
    {
     "name": "stdout",
     "output_type": "stream",
     "text": [
      "Programa 3\n",
      "Email valido\n"
     ]
    }
   ],
   "source": [
    "print('Programa 3')\n",
    "\n",
    "if not '@' in email:\n",
    "    print('Email invalido')\n",
    "else:\n",
    "    print('Email valido')"
   ]
  },
  {
   "cell_type": "markdown",
   "id": "2231fa39",
   "metadata": {},
   "source": [
    "A meta é 1000 vendas<br>\n",
    "Agora, os funcionários que venderem muito acima da meta ganham mais bônus do que os outros. Então o bônus é definido da seguinte forma:<br>\n",
    "\n",
    "- Se vendas funcionário for maior ou igual a 2000, então o bônus é de 15% sobre o valor de vendas\n",
    "- Se vendas funcionário for menor do que 2000 e maior ou igual a 1000, então o bônus é de 10% sobre o valor de vendas\n",
    "- Se vendas funcionário for menos do que 1000 então o bônus do funcionário é de 0."
   ]
  },
  {
   "cell_type": "code",
   "execution_count": 18,
   "id": "b634ca1c",
   "metadata": {
    "ExecuteTime": {
     "end_time": "2022-08-30T21:33:42.666740Z",
     "start_time": "2022-08-30T21:33:27.806064Z"
    }
   },
   "outputs": [
    {
     "name": "stdout",
     "output_type": "stream",
     "text": [
      "Nome do 1 Funcionario: Maria\n",
      "Vendas do Maria Funcionario: 2300\n",
      "O Funcionario Maria Ganhou 345.0R$ de Bonus\n",
      "Nome do 2 Funcionario: Tatu\n",
      "Vendas do Tatu Funcionario: 4000\n",
      "O Funcionario Tatu Ganhou 600.0R$ de Bonus\n",
      "Nome do 3 Funcionario: Livia\n",
      "Vendas do Livia Funcionario: 900\n",
      "O Funcionario Livia Ganhou 0R$ de Bonus\n"
     ]
    }
   ],
   "source": [
    "meta = 1000\n",
    "bonus = 0\n",
    "\n",
    "for c in range(1, 4):\n",
    "    funcionario = str(input(f'Nome do {c} Funcionario: '))\n",
    "    vendas      = float(input(f'Vendas do {funcionario} Funcionario: '))\n",
    "    if vendas >= 2000:\n",
    "        bonus = 0.15 * vendas\n",
    "    elif vendas >= 1000:\n",
    "        bonus = 0.10 * vendas\n",
    "    else:\n",
    "        bonus = 0\n",
    "    print(f'O Funcionario {funcionario} Ganhou {bonus}R$ de Bonus')\n"
   ]
  },
  {
   "cell_type": "markdown",
   "id": "7ac03405",
   "metadata": {},
   "source": [
    "Calculo de Meta dos Funcionarios: Muitas empresas atribuem bonificação do salário dos funcionários de acordo com o resultado do funcionário e também com o resultado da empresa como um todo.\n",
    "\n",
    "Nesse caso, a regra funciona da seguinte forma:\n",
    "\n",
    "Se o funcionário vendeu mais do que a meta de vendas e a loja bateu a meta de vendas da loja, o funcionário ganha 3% do que ele vendeu em forma de bônus.\n",
    "Caso o funcionário tenha batido a meta de vendas individual dele, mas a loja não tenha batido a meta de vendas da loja como um todo, o funcionário não ganha bônus."
   ]
  },
  {
   "cell_type": "code",
   "execution_count": 1,
   "id": "03110f94",
   "metadata": {},
   "outputs": [
    {
     "name": "stdout",
     "output_type": "stream",
     "text": [
      "O Funcionario não ganhara bonus\n"
     ]
    }
   ],
   "source": [
    "meta_funcionario = 10000\n",
    "meta_loja = 25000\n",
    "\n",
    "vendas_funcionario = 5000\n",
    "vendas_loja = 20000\n",
    "\n",
    "if vendas_funcionario > meta_funcionario and vendas_loja > meta_loja:\n",
    "    bonus = 0.03 * vendas_funcionario\n",
    "    print(f'O Bonus sera de {bonus}')\n",
    "else:\n",
    "    print('O Funcionario não ganhara bonus')"
   ]
  },
  {
   "cell_type": "markdown",
   "id": "263c6845",
   "metadata": {},
   "source": [
    "- Crie um sistema para ser usado pelo time de controle de estoque de um centro de distribuição.\n",
    "- Imagine que ao fim de todo dia, o time conta quantas unidades de produto existem no estoque. Se tivermos um estoque abaixo do estoque permitido para aquela categoria do produto, o time deve ser avisado (print) para fazer um novo pedido daquele produto.\n",
    "- Cada categoria de produto tem um estoque mínimo diferente, segundo a regra abaixo:\n",
    "\n",
    "- alimentos -> Estoque mínimo: 50\n",
    "- bebidas -> Estoque mínimo: 75\n",
    "- limpeza -> Estoque mínimo: 30\n",
    "\n",
    "\n",
    "Se o produto tiver abaixo do estoque mínimo da categoria dele, o programa deve printar a mensagem \"Solicitar {produto} à equipe de compras, temos apenas {unidades} em estoque\"\n",
    "\n",
    "Exemplo: Se o usuário preenche os inputs com: bebidas, dolly, 90, o programa não deve exibir nenhuma mensagem.<br>\n",
    "Agora, se o usuário preenche os inputs com: bebidas, guaraná, 60, o programa deve exibir a mensagem \"Solicitar guaraná à equipe de compras, temos apenas 60 unidades em estoque.\n",
    "\n",
    "Obs: lembre de usar o int() para transformar o número inserido pelo usuário no input de string para int.<br>\n",
    "Obs2: Caso o usuário não preencha alguma das 3 informações, o programa deve exibir uma mensagem para avisá-lo de preencher corretamente."
   ]
  },
  {
   "cell_type": "code",
   "execution_count": 2,
   "id": "0edc0b8b",
   "metadata": {},
   "outputs": [
    {
     "name": "stdout",
     "output_type": "stream",
     "text": [
      "Produto: Alcool\n",
      "Categoria do Produto: bebidas\n",
      "Quantidade de Produto: 34\n",
      "Solicitar Alcool a equipe, temos apenas 34 de unidades\n"
     ]
    }
   ],
   "source": [
    "produto = input('Produto: ')\n",
    "categoria = input('Categoria do Produto: ')\n",
    "qtd = int(input('Quantidade de Produto: '))\n",
    "\n",
    "if produto and categoria and qtd:\n",
    "    if categoria == 'bebidas':\n",
    "        if qtd < 75:\n",
    "            print(f'Solicitar {produto} a equipe, temos apenas {qtd} de unidades')\n",
    "    elif categoria == 'limpeza':\n",
    "        if qtd < 30:\n",
    "            print(f'Solicitar {produto} a equipe, temos apenas {qtd} de unidades')\n",
    "    else:\n",
    "        if qtd < 50:\n",
    "            print(f'Solicitar {produto} a equipe, temos apenas {qtd} de unidades')\n",
    "else:\n",
    "    print('Preencha todas as categorias')\n",
    "            "
   ]
  },
  {
   "cell_type": "markdown",
   "id": "7dde71d3",
   "metadata": {},
   "source": [
    "Escreva um programa que faça o computador “pensar” em um número inteiro entre 0 e 5 e peça para o usuário tentar descobrir qual foi o número escolhido pelo computador. O programa deverá escrever na tela se o usuário venceu ou perdeu."
   ]
  },
  {
   "cell_type": "code",
   "execution_count": 3,
   "id": "e268be5e",
   "metadata": {},
   "outputs": [
    {
     "name": "stdout",
     "output_type": "stream",
     "text": [
      "-=-=-=-=-=-=-=-=-=-=-=-=-=-=-=-=-=-=-=-=\n",
      "Estou pensando em um numero tente advinhar\n",
      "-=-=-=-=-=-=-=-=-=-=-=-=-=-=-=-=-=-=-=-=\n",
      "Digite um Numero: 4\n",
      "Processando....\n",
      "Voce errou eu pensei em 2 e não 4\n"
     ]
    }
   ],
   "source": [
    "from random import randint\n",
    "from time import sleep\n",
    "\n",
    "comput = randint(0, 5)\n",
    "print('-='*20)\n",
    "print('Estou pensando em um numero tente advinhar')\n",
    "print('-='*20)\n",
    "sleep(2)\n",
    "jogador  = int(input('Digite um Numero: '))\n",
    "print('Processando....')\n",
    "sleep(3)\n",
    "\n",
    "if jogador == comput:\n",
    "    print('Parabens Voce Acertou')\n",
    "else:\n",
    "    print(f'Voce errou eu pensei em {comput} e não {jogador}')"
   ]
  },
  {
   "cell_type": "markdown",
   "id": "4f9896d2",
   "metadata": {},
   "source": [
    "Escreva um programa que leia a velocidade de um carro. Se ele ultrapassar 80Km/h, mostre uma mensagem dizendo que ele foi multado. A multa vai custar R$7,00 por cada Km acima do limite."
   ]
  },
  {
   "cell_type": "code",
   "execution_count": 4,
   "id": "8683f654",
   "metadata": {},
   "outputs": [
    {
     "name": "stdout",
     "output_type": "stream",
     "text": [
      "Nome do Motorista: 456\n",
      "Velocidade do 456 estava: 345\n",
      "456 voce estava em uma velocidade de 345.0 km por hora \n",
      "Voce ultrapassou a velocidade limite e sera multado em 1855.0R$\n"
     ]
    }
   ],
   "source": [
    "motorista = str(input('Nome do Motorista: '))\n",
    "velocidade = float(input(f'Velocidade do {motorista} estava: '))\n",
    "\n",
    "print(f'{motorista} voce estava em uma velocidade de {velocidade} km por hora ')\n",
    "if velocidade > 80:\n",
    "    multa = (velocidade - 80) * 7\n",
    "    print(f'Voce ultrapassou a velocidade limite e sera multado em {multa}R$')\n",
    "else:\n",
    "    print('Voce e um motorista prudente')"
   ]
  },
  {
   "cell_type": "markdown",
   "id": "fa6552d6",
   "metadata": {},
   "source": [
    "Crie um programa que leia um número inteiro e mostre na tela se ele é PAR ou ÍMPAR."
   ]
  },
  {
   "cell_type": "code",
   "execution_count": 5,
   "id": "7e5a1d77",
   "metadata": {},
   "outputs": [
    {
     "name": "stdout",
     "output_type": "stream",
     "text": [
      "Digite um Numero: 4\n",
      "Voce digitou o numero 4 ele e: \u001b[33mPar\n"
     ]
    }
   ],
   "source": [
    "numero = int(input('Digite um Numero: '))\n",
    "print(f'Voce digitou o numero {numero} ele e: ', end='\\33[33m')\n",
    "if numero % 2 == 0:\n",
    "    print('Par')\n",
    "else:\n",
    "    print('Impar')"
   ]
  },
  {
   "cell_type": "markdown",
   "id": "579e3db9",
   "metadata": {},
   "source": [
    "Desenvolva um programa que pergunte a distância de uma viagem em Km. Calcule o preço da passagem, cobrando R$0,50 por Km para viagens de até 200Km e R$0,45 parta viagens mais longas."
   ]
  },
  {
   "cell_type": "code",
   "execution_count": 7,
   "id": "e428d847",
   "metadata": {},
   "outputs": [
    {
     "name": "stdout",
     "output_type": "stream",
     "text": [
      "Nome do Passageiro: Marcos\n",
      "Distancia que(a)(o) Marcos ira viaja: 567\n",
      "Marcos voce ira fazer uma viagem de 567.0km: sua passagem lhe custara: \u001b[33m255.15R$\n"
     ]
    }
   ],
   "source": [
    "nome = str(input('Nome do Passageiro: '))\n",
    "distancia = float(input(f'Distancia que(a)(o) {nome} ira viaja: '))\n",
    "\n",
    "print(f'{nome} voce ira fazer uma viagem de {distancia}km: sua passagem lhe custara: ', end='\\33[33m')\n",
    "\n",
    "if distancia > 200:\n",
    "    custo = distancia * 0.45\n",
    "    print(f'{custo}R$')\n",
    "else:\n",
    "    custo = distancia * 0.50\n",
    "    print(f'{custo}R$')"
   ]
  },
  {
   "cell_type": "markdown",
   "id": "1f878240",
   "metadata": {},
   "source": [
    "Faça um programa que leia um ano qualquer e mostre se ele é bissexto."
   ]
  },
  {
   "cell_type": "code",
   "execution_count": 8,
   "id": "ed2aec50",
   "metadata": {},
   "outputs": [
    {
     "name": "stdout",
     "output_type": "stream",
     "text": [
      "Digite o Ano a ser analisado: 2024\n",
      "Voce digitou o ano 2024 ele e: \u001b[33mBissexto\n"
     ]
    }
   ],
   "source": [
    "from time import sleep\n",
    "\n",
    "ano = int(input('Digite o Ano a ser analisado: '))\n",
    "\n",
    "print(f'Voce digitou o ano {ano} ele e: ', end='\\33[33m')\n",
    "if ano % 4 == 0:\n",
    "    print('Bissexto')\n",
    "else:\n",
    "    print('Não e Bissexto')"
   ]
  },
  {
   "cell_type": "markdown",
   "id": "34254193",
   "metadata": {},
   "source": [
    "Faça um programa que leia três números e mostre qual é o maior e qual é o menor"
   ]
  },
  {
   "cell_type": "code",
   "execution_count": 11,
   "id": "21427cdb",
   "metadata": {},
   "outputs": [
    {
     "name": "stdout",
     "output_type": "stream",
     "text": [
      "Numero 1: 3\n",
      "Numero 2: 4\n",
      "Numero 3: 5\n",
      "5 e Maior\n",
      "3 e Menor\n"
     ]
    }
   ],
   "source": [
    "num1 = int(input('Numero 1: '))\n",
    "num2 = int(input('Numero 2: '))\n",
    "num3 = int(input('Numero 3: '))\n",
    "\n",
    "if num2 < num1 > num3:\n",
    "    print(f'{num1} e Maior')\n",
    "elif num1 < num2 > num3:\n",
    "    print(f'{num2} e Maior')\n",
    "else:\n",
    "    print(f'{num3} e Maior')\n",
    "    \n",
    "if num2 > num1 < num3:\n",
    "    print(f'{num1} e Menor')\n",
    "elif num1 > num2 < num3:\n",
    "    print(f'{num2} e Menor')\n",
    "else:\n",
    "    print(f'{num3} e Menor')"
   ]
  },
  {
   "cell_type": "markdown",
   "id": "27dbfa4c",
   "metadata": {},
   "source": [
    "Escreva um programa que pergunte o salário de um funcionário e calcule o valor do seu aumento. Para salários superiores a R$1250,00, calcule um aumento de 10%. Para os inferiores ou iguais, o aumento é de 15%"
   ]
  },
  {
   "cell_type": "code",
   "execution_count": 13,
   "id": "2346c5ac",
   "metadata": {},
   "outputs": [
    {
     "name": "stdout",
     "output_type": "stream",
     "text": [
      "Nome do Funcionario: Gustavo\n",
      "Salario do Funcionario: 3456\n",
      "O Funcionario Gustavo que ganhava 3456.0R$\n",
      "Tera um aumento de 10% e passara a ganha 3801.60R$\n"
     ]
    }
   ],
   "source": [
    "funcionario = str(input('Nome do Funcionario: '))\n",
    "salario = float(input('Salario do Funcionario: '))\n",
    "\n",
    "print(f'O Funcionario {funcionario} que ganhava {salario}R$')\n",
    "\n",
    "if salario > 1250:\n",
    "    aumento = (salario / 100) * 110\n",
    "    print(f'Tera um aumento de 10% e passara a ganha {aumento:.2f}R$')\n",
    "else:\n",
    "    aumento = (salario / 100) * 115\n",
    "    print(f'Tera um aumento de 15% e passara a ganha {aumento:.2f}R$')"
   ]
  },
  {
   "cell_type": "markdown",
   "id": "4e971799",
   "metadata": {},
   "source": [
    "Desenvolva um programa que leia o comprimento de três retas e diga ao usuário se elas podem ou não formar um triângulo."
   ]
  },
  {
   "cell_type": "code",
   "execution_count": 14,
   "id": "47aafbae",
   "metadata": {},
   "outputs": [
    {
     "name": "stdout",
     "output_type": "stream",
     "text": [
      "Primeiro segmento: 4\n",
      "Segundo segmento: 5\n",
      "Terceiro segmento: 6\n",
      "Forman um triangulo\n"
     ]
    }
   ],
   "source": [
    "a = float(input('Primeiro segmento: '))\n",
    "b = float(input('Segundo segmento: '))\n",
    "c = float(input('Terceiro segmento: '))\n",
    "\n",
    "if a < b+c and b < a+c and c < a+b:\n",
    "    print('Forman um triangulo')\n",
    "else:\n",
    "    print('Não forma um triangulo')"
   ]
  },
  {
   "cell_type": "markdown",
   "id": "f501d8a5",
   "metadata": {},
   "source": [
    "Escreva um programa para aprovar o empréstimo bancário para a compra de uma casa. Pergunte o valor da casa, o salário do comprador e em quantos anos ele vai pagar. A prestação mensal não pode exceder 30% do salário ou então o empréstimo será negado"
   ]
  },
  {
   "cell_type": "code",
   "execution_count": 5,
   "id": "d58d7220",
   "metadata": {},
   "outputs": [
    {
     "name": "stdout",
     "output_type": "stream",
     "text": [
      "Nome do Comprador: Marcio\n",
      "Valor da Casa R$: 45000\n",
      "Salario Marcio: 12560\n",
      "Tempo para pagar o Emprestimo: 12\n",
      "O Senhor(a) Marcio deseja compra uma casa no valor de 45000.0R$\n",
      "Ele não podera exceder o limite de 30% do Salario que e de 3768.00R$\n",
      "Ganhando 12560.0R$ ele deseja financia a casa em 144 meses e prestacoes de 312.5R$\n",
      "Nesse caso: \u001b[33mO Emprestimo Sera concedido pois o valor de 312.5R$     das prestacoes não excede o limite de 3768.0\n"
     ]
    }
   ],
   "source": [
    "nome_comprador = str(input('Nome do Comprador: '))\n",
    "valor_casa     = float(input('Valor da Casa R$: '))\n",
    "salario_comprador = float(input(f'Salario {nome_comprador}: '))\n",
    "limite_salario = (salario_comprador *0.3)\n",
    "tempo_pagament = int(input(f'Tempo para pagar o Emprestimo: '))\n",
    "meses_pagament = tempo_pagament * 12\n",
    "prestacao_mes  = valor_casa / meses_pagament\n",
    "\n",
    "print(f'O Senhor(a) {nome_comprador} deseja compra uma casa no valor de {valor_casa}R$')\n",
    "print(f'Ele não podera exceder o limite de 30% do Salario que e de {limite_salario:.2f}R$')\n",
    "print(f'Ganhando {salario_comprador}R$ ele deseja financia a casa em {meses_pagament} meses e prestacoes de {prestacao_mes}R$')\n",
    "print(f'Nesse caso: ',end='\\33[33m')\n",
    "\n",
    "if prestacao_mes > limite_salario:\n",
    "    print(f'O Emprestimo Sera Negado pois excede o limite de 30% do Salario')\n",
    "else:\n",
    "    print(f'O Emprestimo Sera concedido pois o valor de {prestacao_mes}R$ \\\n",
    "    das prestacoes não excede o limite de {limite_salario}')"
   ]
  },
  {
   "cell_type": "markdown",
   "id": "baed3108",
   "metadata": {},
   "source": [
    "Escreva um programa em Python que leia um número inteiro qualquer e peça para o usuário escolher qual será a base de conversão: 1 para binário, 2 para octal e 3 para hexadecimal."
   ]
  },
  {
   "cell_type": "code",
   "execution_count": 4,
   "id": "8c44b118",
   "metadata": {},
   "outputs": [
    {
     "name": "stdout",
     "output_type": "stream",
     "text": [
      "Digite um Numero: 4567\n",
      "Escolha uma das Opções de Conversão\n",
      "[1] Binario\n",
      "[2] OCTAL\n",
      "[3] Haxadecimal\n",
      "Qual a Sua Opcao: 3\n",
      "4567 Convertido para Hexadecimal 0x11d7\n"
     ]
    }
   ],
   "source": [
    "numero = int(input('Digite um Numero: '))\n",
    "print('''Escolha uma das Opções de Conversão\n",
    "[1] Binario\n",
    "[2] OCTAL\n",
    "[3] Haxadecimal''')\n",
    "\n",
    "opcao = int(input('Qual a Sua Opcao: '))\n",
    "\n",
    "if opcao == 1:\n",
    "    print(f'{numero} Convertido para Binario {bin(numero)}')\n",
    "elif opcao == 2:\n",
    "    print(f'{numero} Convertido para Octal {oct(numero)}')\n",
    "elif opcao == 3:\n",
    "    print(f'{numero} Convertido para Hexadecimal {hex(numero)}')\n",
    "else:\n",
    "    print('Opcao Invalida')"
   ]
  },
  {
   "cell_type": "markdown",
   "id": "110b2b0f",
   "metadata": {},
   "source": [
    "Escreva um programa que leia dois números inteiros e compare-os. mostrando na tela uma mensagem:\n",
    "\n",
    "– O primeiro valor é maior\n",
    "\n",
    "– O segundo valor é maior\n",
    "\n",
    "– Não existe valor maior, os dois são iguais"
   ]
  },
  {
   "cell_type": "code",
   "execution_count": 6,
   "id": "1b0f21c5",
   "metadata": {},
   "outputs": [
    {
     "name": "stdout",
     "output_type": "stream",
     "text": [
      "Digite um Numero: 4\n",
      "Digite outro Numero: 5\n",
      "Entre os Numeros 4 e 5 o Maior Numero e: 5\n"
     ]
    }
   ],
   "source": [
    "numero1 = int(input('Digite um Numero: '))\n",
    "numero2 = int(input('Digite outro Numero: '))\n",
    "\n",
    "print(f'Entre os Numeros {numero1} e {numero2} o Maior Numero e: ',end='')\n",
    "if numero1 > numero2:\n",
    "    maior = numero1\n",
    "    print(f'{numero1}')\n",
    "elif numero2 > numero1:\n",
    "    print(f'{numero2}')\n",
    "elif numero2 == numero1:\n",
    "    print('Não Existe Maior os Dois São Iguais')\n",
    "else:\n",
    "    print('Opcao Invalida')"
   ]
  },
  {
   "cell_type": "markdown",
   "id": "b56b8601",
   "metadata": {},
   "source": [
    "Faça um programa que leia o ano de nascimento de um jovem e informe, de acordo com a sua idade, se ele ainda vai se alistar ao serviço militar, se é a hora exata de se alistar ou se já passou do tempo do alistamento. Seu programa também deverá mostrar o tempo que falta ou que passou do prazo."
   ]
  },
  {
   "cell_type": "code",
   "execution_count": 1,
   "id": "20ed6bee",
   "metadata": {},
   "outputs": [
    {
     "name": "stdout",
     "output_type": "stream",
     "text": [
      "Ano de Nascimento: 1995\n",
      "O Jovem que nasceu no ano de 1995, hoje ano atual 2022 tem ou fara 27 anos\n",
      "Ja Passou do tempo de alistamento 9 anos deveria ter sido em 2013\n"
     ]
    }
   ],
   "source": [
    "from datetime import date\n",
    "hoje = date.today().year\n",
    "\n",
    "nascimento = int(input('Ano de Nascimento: '))\n",
    "idade = hoje - nascimento\n",
    "\n",
    "print(f'O Jovem que nasceu no ano de {nascimento}, hoje ano atual {hoje} tem ou fara {idade} anos')\n",
    "\n",
    "if idade == 18:\n",
    "    print('Ta na hora de se alista no serviço militar, providencie todos os documentos necessarios')\n",
    "elif idade > 18:\n",
    "    passou = idade - 18\n",
    "    ano = hoje - passou\n",
    "    print(f'Ja Passou do tempo de alistamento {passou} anos deveria ter sido em {ano}')\n",
    "elif idade < 18:\n",
    "    falta = 18 - idade\n",
    "    ano = hoje + falta\n",
    "    print(f'Ainda ira se alista no serviço milita, falta {falta} anos e sera em {ano}')\n",
    "else:\n",
    "    print('Opcao invalida tente novamente')"
   ]
  },
  {
   "cell_type": "markdown",
   "id": "95a7e51a",
   "metadata": {},
   "source": [
    "Crie um programa que leia duas notas de um aluno e calcule sua média, mostrando uma mensagem no final, de acordo com a média atingida:\n",
    "\n",
    "– Média abaixo de 5.0: REPROVADO\n",
    "\n",
    "– Média entre 5.0 e 6.9: RECUPERAÇÃO\n",
    "\n",
    "– Média 7.0 ou superior: APROVADO"
   ]
  },
  {
   "cell_type": "code",
   "execution_count": 3,
   "id": "c67e8f0c",
   "metadata": {},
   "outputs": [
    {
     "name": "stdout",
     "output_type": "stream",
     "text": [
      "Primeira Nota: 5.67\n",
      "Segunda Nota: 5\n",
      "O ALuno que tirou (5.67, 5.0) tera uma media de 5.335 pontos\n",
      "O Aluno esta de Recuperação\n"
     ]
    }
   ],
   "source": [
    "nota1 = float(input('Primeira Nota: '))\n",
    "nota2 = float(input('Segunda Nota: '))\n",
    "media = (nota1 + nota2) / 2\n",
    "\n",
    "print(f'O ALuno que tirou {nota1, nota2} tera uma media de {media} pontos')\n",
    "if media < 5:\n",
    "    print('O Aluno esta Reprovado')\n",
    "elif media > 5 and media < 6.9:\n",
    "    print('O Aluno esta de Recuperação')\n",
    "elif media >= 7:\n",
    "    print('O Aluno esta Aprovado')\n",
    "else:\n",
    "    print('Tente Novamente')"
   ]
  },
  {
   "cell_type": "markdown",
   "id": "f5820978",
   "metadata": {},
   "source": [
    "A Confederação Nacional de Natação precisa de um programa que leia o ano de nascimento de um atleta e mostre sua categoria, de acordo com a idade:\n",
    "\n",
    "– Até 9 anos: MIRIM\n",
    "\n",
    "– Até 14 anos: INFANTIL\n",
    "\n",
    "– Até 19 anos: JÚNIOR\n",
    "\n",
    "– Até 25 anos: SÊNIOR\n",
    "\n",
    "– Acima de 25 anos: MASTER"
   ]
  },
  {
   "cell_type": "code",
   "execution_count": 4,
   "id": "d03dd3b2",
   "metadata": {},
   "outputs": [
    {
     "name": "stdout",
     "output_type": "stream",
     "text": [
      "Ano de Nascimento: 1995\n",
      "O Jovem que nasceu em 1995 hoje 2022 tem ou fara 27\n",
      "O Jovem com 27 anos de idade se enquadra na Categoria: \u001b[33mMaster\n"
     ]
    }
   ],
   "source": [
    "from datetime import date\n",
    "hoje = date.today().year\n",
    "\n",
    "nascimento = int(input('Ano de Nascimento: '))\n",
    "idade = hoje - nascimento\n",
    "\n",
    "print(f'O Jovem que nasceu em {nascimento} hoje {hoje} tem ou fara {idade}')\n",
    "print(f'O Jovem com {idade} anos de idade se enquadra na Categoria: ', end='\\33[33m')\n",
    "\n",
    "if idade < 9:\n",
    "    print('Mirin')\n",
    "elif idade < 14:\n",
    "    print('Infantil')\n",
    "elif idade < 19:\n",
    "    print('Junior')\n",
    "elif idade < 25:\n",
    "    print('Senior')\n",
    "elif idade > 25:\n",
    "    print('Master')\n",
    "else:\n",
    "    print('Tente Novamente')"
   ]
  },
  {
   "cell_type": "markdown",
   "id": "09c83ab8",
   "metadata": {},
   "source": [
    "Refaça o DESAFIO 35 dos triângulos, acrescentando o recurso de mostrar que tipo de triângulo será formado:\n",
    "\n",
    "– EQUILÁTERO: todos os lados iguais\n",
    "\n",
    "– ISÓSCELES: dois lados iguais, um diferente\n",
    "\n",
    "– ESCALENO: todos os lados diferentes"
   ]
  },
  {
   "cell_type": "code",
   "execution_count": 5,
   "id": "208ebaac",
   "metadata": {},
   "outputs": [
    {
     "name": "stdout",
     "output_type": "stream",
     "text": [
      "Primeiro Lado: 4\n",
      "Segundo Lado: 5\n",
      "Terceiro Lado: 6\n",
      "Os Comprimentos 4, 5 e 6\n",
      "Forman um Triangulo do Tipo: \n",
      "Escaleno\n"
     ]
    }
   ],
   "source": [
    "a = int(input('Primeiro Lado: '))\n",
    "b = int(input('Segundo Lado: '))\n",
    "c = int(input('Terceiro Lado: '))\n",
    "\n",
    "print(f'Os Comprimentos {a}, {b} e {c}')\n",
    "if a < b+c and b < a+c and c < a+b:\n",
    "    print('Forman um Triangulo do Tipo: ')\n",
    "    if a != b != c != a:\n",
    "        print('Escaleno')\n",
    "    elif a == b == c == a:\n",
    "        print('Equilatero')\n",
    "    else:\n",
    "        print('Isosceles')\n",
    "else:\n",
    "    print('Não Forman um Triangulo')"
   ]
  },
  {
   "cell_type": "code",
   "execution_count": 6,
   "id": "36850c7a",
   "metadata": {},
   "outputs": [],
   "source": [
    "def triangulo(a, b, c):\n",
    "\n",
    "    print(f'Os Comprimentos {a}, {b} e {c}')\n",
    "    if a < b+c and b < a+c and c < a+b:\n",
    "        print('Forman um Triangulo do Tipo: ')\n",
    "        if a != b != c != a:\n",
    "            print('Escaleno')\n",
    "        elif a == b == c == a:\n",
    "            print('Equilatero')\n",
    "        else:\n",
    "            print('Isosceles')\n",
    "    else:\n",
    "        print('Não Forman um Triangulo')"
   ]
  },
  {
   "cell_type": "code",
   "execution_count": 7,
   "id": "a889188d",
   "metadata": {},
   "outputs": [
    {
     "name": "stdout",
     "output_type": "stream",
     "text": [
      "Os Comprimentos 5, 5 e 5\n",
      "Forman um Triangulo do Tipo: \n",
      "Equilatero\n"
     ]
    }
   ],
   "source": [
    "triangulo(5, 5, 5)"
   ]
  },
  {
   "cell_type": "markdown",
   "id": "d6799cc1",
   "metadata": {},
   "source": [
    "Desenvolva uma lógica que leia o peso e a altura de uma pessoa, calcule seu Índice de Massa Corporal (IMC) e mostre seu status, de acordo com a tabela abaixo:\n",
    "\n",
    "– IMC abaixo de 18,5: Abaixo do Peso\n",
    "\n",
    "– Entre 18,5 e 25: Peso Ideal\n",
    "\n",
    "– 25 até 30: Sobrepeso\n",
    "\n",
    "– 30 até 40: Obesidade\n",
    "\n",
    "– Acima de 40: Obesidade Mórbida"
   ]
  },
  {
   "cell_type": "code",
   "execution_count": 8,
   "id": "07482530",
   "metadata": {},
   "outputs": [
    {
     "name": "stdout",
     "output_type": "stream",
     "text": [
      "Digite Seu Nome: Francisco\n",
      "Digite Sua Altura: 1.67\n",
      "Digite Seu Peso: (kg) 89\n",
      "Francisco Voce tem 1.67 metros de altura e pesa 89.0kg\n",
      "Seu IMC e de 26.65 voce esta: \u001b[33mSobrePeso\n"
     ]
    }
   ],
   "source": [
    "nome = str(input('Digite Seu Nome: '))\n",
    "altura = float(input('Digite Sua Altura: '))\n",
    "peso = float(input('Digite Seu Peso: (kg) '))\n",
    "imc = peso / (altura * 2)\n",
    "\n",
    "print(f'{nome} Voce tem {altura} metros de altura e pesa {peso}kg')\n",
    "print(f'Seu IMC e de {imc:.2f} voce esta: ',end='\\33[33m')\n",
    "\n",
    "if imc < 18.5:\n",
    "    print('Abaixo Do Peso')\n",
    "elif 18.5 <= imc < 25:\n",
    "    print('Peso Ideal')\n",
    "elif 25 <= imc < 30:\n",
    "    print('SobrePeso')\n",
    "elif 30 <= imc < 40:\n",
    "    print('Obesidade')\n",
    "elif imc >= 40:\n",
    "    print('\\33[31mObesidade Morbida')\n",
    "else:\n",
    "    print('Desculpe Tente Novamente')"
   ]
  },
  {
   "cell_type": "markdown",
   "id": "6726d793",
   "metadata": {},
   "source": [
    "Elabore um programa que calcule o valor a ser pago por um produto, considerando o seu preço normal e condição de pagamento:\n",
    "\n",
    "– à vista dinheiro/cheque: 10% de desconto\n",
    "\n",
    "– à vista no cartão: 5% de desconto\n",
    "\n",
    "– em até 2x no cartão: preço formal\n",
    "\n",
    "– 3x ou mais no cartão: 20% de juros"
   ]
  },
  {
   "cell_type": "code",
   "execution_count": 9,
   "id": "467edd87",
   "metadata": {},
   "outputs": [
    {
     "name": "stdout",
     "output_type": "stream",
     "text": [
      "Nome do Produto: 34567\n",
      "Preco do Produto: R$ 23345\n",
      "Escolha uma Opcao de Pagamento\n",
      "[1] A Vista Dinheiro/Chueque 10% de Desconto\n",
      "[2] A Vista No Cartao 5% de Desconto\n",
      "[3] Em Ate 2x no Cartao: Sem Desconto\n",
      "[4] 3x Ou Mais no Cartao: 20% de Juros\n",
      "O Produto que voce deseja compra e 34567 ele custa 23345.0\n",
      "=-=-=-=-=-=-=-=-=-=-=-=-=-=-=-=-=-=-=-=-=-=-=-=-=-=-=-=-=-=-\n",
      "Qual a Sua Opcao de Pagamento: \u001b[33mDigite Sua Opcao: 1\n",
      "Calculando.....\n",
      "Opcao 1 com Pagamento a Vista com 10% de Desconto seu produto saira por 21010.5R$\n"
     ]
    }
   ],
   "source": [
    "from time import sleep\n",
    "\n",
    "nome_produto = str(input('Nome do Produto: '))\n",
    "preco_produto = float(input('Preco do Produto: R$ '))\n",
    "\n",
    "print('''Escolha uma Opcao de Pagamento\n",
    "[1] A Vista Dinheiro/Chueque 10% de Desconto\n",
    "[2] A Vista No Cartao 5% de Desconto\n",
    "[3] Em Ate 2x no Cartao: Sem Desconto\n",
    "[4] 3x Ou Mais no Cartao: 20% de Juros''')\n",
    "\n",
    "print(f'O Produto que voce deseja compra e {nome_produto} ele custa {preco_produto}')\n",
    "\n",
    "print('=-'*30)\n",
    "print(f'Qual a Sua Opcao de Pagamento: ',end='\\33[33m')\n",
    "\n",
    "opcao = int(input('Digite Sua Opcao: '))\n",
    "\n",
    "print('Calculando.....')\n",
    "sleep(3)\n",
    "if opcao == 1:\n",
    "    desconto = (preco_produto / 100) * 90\n",
    "    print(f'Opcao 1 com Pagamento a Vista com 10% de Desconto seu produto saira por {desconto}R$')\n",
    "elif opcao == 2:\n",
    "    desconto = (preco_produto / 100) * 95\n",
    "    print(f'Opcao 2 com Pagamento a Vista no Cartao 5% de Desconto seu produto saira por {desconto}R$')\n",
    "elif opcao == 3:\n",
    "    print(f'Opcao 3 Em ate 2x No Cartao: Sem Desconto')\n",
    "elif opcao == 4:\n",
    "    qtd_parcela = int(input('Em Quantas Parcelas: '))\n",
    "    aumento = (preco_produto / 100) * 120\n",
    "    print(f'Opcao 4 em {qtd_parcela} de {preco_produto / qtd_parcela}R$, juros de 20% seu Produto ira custa {aumento}R$')\n",
    "else:\n",
    "    print('Tente Novamente')"
   ]
  },
  {
   "cell_type": "markdown",
   "id": "efd944e3",
   "metadata": {},
   "source": [
    "Crie um programa que faça o computador jogar Jokenpô com você."
   ]
  },
  {
   "cell_type": "code",
   "execution_count": 10,
   "id": "78752b29",
   "metadata": {},
   "outputs": [
    {
     "name": "stdout",
     "output_type": "stream",
     "text": [
      "-=-=-=-=-=-=-=-=-=-=-=-=-=-=-=-=-=-=-=-=-=-=-=\n",
      "Vamor Jogar Um Jogo, Escolha 1 Numero de 0 a 2\n",
      "[0] Pedra\n",
      "[1] Papel\n",
      "[2] Tesoura\n",
      "-=-=-=-=-=-=-=-=-=-=-=-=-=-=-=-=-=-=-=-=-=-=-=\n",
      "Digite Sua Opcao: Escolha entre 0 e 2: 1\n",
      "Jo\n",
      "Ken\n",
      "Pooooo....\n",
      "\n",
      "Computador Jogou Papel\n",
      "Jogador Jogou Papel\n",
      "Opa Ficamos Empate\n"
     ]
    }
   ],
   "source": [
    "from random import randint\n",
    "from time import sleep\n",
    "\n",
    "pc = randint(0,2)\n",
    "lista = ['Pedra', 'Papel', 'Tesoura']\n",
    "\n",
    "print('-='*23)\n",
    "print('''Vamor Jogar Um Jogo, Escolha 1 Numero de 0 a 2\n",
    "[0] Pedra\n",
    "[1] Papel\n",
    "[2] Tesoura''')\n",
    "print('-='*23)\n",
    "\n",
    "opcao = int(input('Digite Sua Opcao: Escolha entre 0 e 2: '))\n",
    "print('Jo')\n",
    "sleep(1)\n",
    "print('Ken')\n",
    "sleep(1)\n",
    "print('Pooooo....')\n",
    "print('')\n",
    "print(f'Computador Jogou {lista[pc]}')\n",
    "print(f'Jogador Jogou {lista[opcao]}')\n",
    "\n",
    "if opcao == pc:\n",
    "    print('Opa Ficamos Empate')\n",
    "elif opcao == 0 and pc == 1:\n",
    "    print(f'Computador Ganhou: Papel Enrola Pedra')\n",
    "elif opcao == 0 and pc == 2:\n",
    "    print('Jogador Ganhou: Pedra Quebra Tesoura')\n",
    "elif opcao == 1 and pc == 0:\n",
    "    print('Jogador Ganhou: Papel Enrola Pedra')\n",
    "elif opcao == 1 and pc == 2:\n",
    "    print('Computador Ganhou: Tesoura Corta Papel')\n",
    "elif opcao == 2 and pc == 0:\n",
    "    print('Computador Ganhou: Pedra Quebra Tesoura')\n",
    "elif opcao == 2 and pc == 1:\n",
    "    print('Jogador Ganhou: Tesoura Corta Papel')\n",
    "else:\n",
    "    print('Digite Apenas Numero de 0 a 2')\n",
    "    "
   ]
  },
  {
   "cell_type": "code",
   "execution_count": null,
   "id": "f2b62c24",
   "metadata": {},
   "outputs": [],
   "source": []
  }
 ],
 "metadata": {
  "kernelspec": {
   "display_name": "Python 3 (ipykernel)",
   "language": "python",
   "name": "python3"
  },
  "language_info": {
   "codemirror_mode": {
    "name": "ipython",
    "version": 3
   },
   "file_extension": ".py",
   "mimetype": "text/x-python",
   "name": "python",
   "nbconvert_exporter": "python",
   "pygments_lexer": "ipython3",
   "version": "3.9.12"
  }
 },
 "nbformat": 4,
 "nbformat_minor": 5
}
